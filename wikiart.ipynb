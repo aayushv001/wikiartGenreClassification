{
 "cells": [
  {
   "cell_type": "code",
   "execution_count": 46,
   "metadata": {},
   "outputs": [
    {
     "name": "stdout",
     "output_type": "stream",
     "text": [
      "\u001b[33mDEPRECATION: Loading egg at /Users/aayush/anaconda3/lib/python3.11/site-packages/huggingface_hub-0.23.0-py3.8.egg is deprecated. pip 24.3 will enforce this behaviour change. A possible replacement is to use pip for package installation.. Discussion can be found at https://github.com/pypa/pip/issues/12330\u001b[0m\u001b[33m\n",
      "\u001b[0mCollecting split-folders\n",
      "  Downloading split_folders-0.5.1-py3-none-any.whl.metadata (6.2 kB)\n",
      "Downloading split_folders-0.5.1-py3-none-any.whl (8.4 kB)\n",
      "Installing collected packages: split-folders\n",
      "Successfully installed split-folders-0.5.1\n",
      "Note: you may need to restart the kernel to use updated packages.\n"
     ]
    }
   ],
   "source": [
    "pip install split-folders"
   ]
  },
  {
   "cell_type": "code",
   "execution_count": 340,
   "metadata": {},
   "outputs": [
    {
     "name": "stdout",
     "output_type": "stream",
     "text": [
      "INFO: Pandarallel will run on 9 workers.\n",
      "INFO: Pandarallel will use standard multiprocessing data transfer (pipe) to transfer data between the main process and workers.\n"
     ]
    }
   ],
   "source": [
    "import pandas as pd\n",
    "import numpy as np \n",
    "from datasets import load_dataset\n",
    "import os\n",
    "from tqdm import tqdm\n",
    "from PIL import Image\n",
    "import io\n",
    "tqdm.pandas()\n",
    "from pandarallel import pandarallel\n",
    "pandarallel.initialize(nb_workers=9,progress_bar = True)\n",
    "import splitfolders\n",
    "import tensorflow\n",
    "from tensorflow.keras.preprocessing import image_dataset_from_directory\n",
    "from tensorflow.keras.models import Sequential,Model\n",
    "from tensorflow.keras.layers import Conv2D,Dense,MaxPooling2D,BatchNormalization,Input,Flatten,Rescaling,Dropout,Activation,GlobalMaxPooling2D,AveragePooling2D,LeakyReLU\n",
    "from tensorflow.keras.metrics import F1Score\n",
    "from tensorflow.keras.initializers import LecunNormal,HeNormal,GlorotNormal\n",
    "from tensorflow.keras.regularizers import L1,L2,L1L2\n",
    "from tensorflow.keras.activations import relu\n",
    "from tensorflow.keras.optimizers import Adam,Nadam\n",
    "from tensorflow.keras.applications import VGG16,ResNet50V2,InceptionV3,EfficientNetV2B0,EfficientNetV2B1"
   ]
  },
  {
   "cell_type": "code",
   "execution_count": 4,
   "metadata": {},
   "outputs": [
    {
     "data": {
      "text/plain": [
       "['train-00042-of-00072.parquet',\n",
       " 'train-00019-of-00072.parquet',\n",
       " 'train-00027-of-00072.parquet',\n",
       " 'train-00006-of-00072.parquet',\n",
       " 'train-00038-of-00072.parquet',\n",
       " 'train-00063-of-00072.parquet',\n",
       " 'train-00012-of-00072.parquet',\n",
       " 'train-00049-of-00072.parquet',\n",
       " 'train-00056-of-00072.parquet',\n",
       " 'train-00068-of-00072.parquet',\n",
       " 'train-00033-of-00072.parquet',\n",
       " 'train-00052-of-00072.parquet',\n",
       " 'train-00037-of-00072.parquet',\n",
       " 'train-00009-of-00072.parquet',\n",
       " 'train-00028-of-00072.parquet',\n",
       " 'train-00016-of-00072.parquet',\n",
       " 'train-00002-of-00072.parquet',\n",
       " 'train-00067-of-00072.parquet',\n",
       " 'train-00059-of-00072.parquet',\n",
       " 'train-00046-of-00072.parquet',\n",
       " 'train-00023-of-00072.parquet',\n",
       " 'train-00062-of-00072.parquet',\n",
       " 'train-00007-of-00072.parquet',\n",
       " 'train-00039-of-00072.parquet',\n",
       " 'train-00018-of-00072.parquet',\n",
       " 'train-00026-of-00072.parquet',\n",
       " 'train-00043-of-00072.parquet',\n",
       " 'train-00032-of-00072.parquet',\n",
       " 'train-00057-of-00072.parquet',\n",
       " 'train-00069-of-00072.parquet',\n",
       " 'train-00048-of-00072.parquet',\n",
       " 'train-00013-of-00072.parquet',\n",
       " 'train-00029-of-00072.parquet',\n",
       " 'train-00017-of-00072.parquet',\n",
       " 'train-00036-of-00072.parquet',\n",
       " 'train-00008-of-00072.parquet',\n",
       " 'train-00053-of-00072.parquet',\n",
       " 'train-00022-of-00072.parquet',\n",
       " 'train-00047-of-00072.parquet',\n",
       " 'train-00066-of-00072.parquet',\n",
       " 'train-00058-of-00072.parquet',\n",
       " 'train-00003-of-00072.parquet',\n",
       " 'train-00031-of-00072.parquet',\n",
       " 'train-00054-of-00072.parquet',\n",
       " 'train-00010-of-00072.parquet',\n",
       " 'train-00061-of-00072.parquet',\n",
       " 'train-00004-of-00072.parquet',\n",
       " 'train-00025-of-00072.parquet',\n",
       " 'train-00040-of-00072.parquet',\n",
       " 'train-00021-of-00072.parquet',\n",
       " 'train-00044-of-00072.parquet',\n",
       " 'train-00065-of-00072.parquet',\n",
       " 'train-00000-of-00072.parquet',\n",
       " 'train-00071-of-00072.parquet',\n",
       " 'train-00014-of-00072.parquet',\n",
       " 'train-00035-of-00072.parquet',\n",
       " 'train-00050-of-00072.parquet',\n",
       " 'train-00011-of-00072.parquet',\n",
       " 'train-00055-of-00072.parquet',\n",
       " 'train-00030-of-00072.parquet',\n",
       " 'train-00041-of-00072.parquet',\n",
       " 'train-00024-of-00072.parquet',\n",
       " 'train-00005-of-00072.parquet',\n",
       " 'train-00060-of-00072.parquet',\n",
       " 'train-00001-of-00072.parquet',\n",
       " 'train-00064-of-00072.parquet',\n",
       " 'train-00045-of-00072.parquet',\n",
       " 'train-00020-of-00072.parquet',\n",
       " 'train-00051-of-00072.parquet',\n",
       " 'train-00034-of-00072.parquet',\n",
       " 'train-00015-of-00072.parquet',\n",
       " 'train-00070-of-00072.parquet']"
      ]
     },
     "execution_count": 4,
     "metadata": {},
     "output_type": "execute_result"
    }
   ],
   "source": [
    "paths = os.listdir('/Users/aayush/Downloads/wikiart')\n",
    "del paths[12]\n",
    "paths"
   ]
  },
  {
   "cell_type": "code",
   "execution_count": 5,
   "metadata": {},
   "outputs": [
    {
     "data": {
      "text/plain": [
       "['train-00000-of-00072.parquet',\n",
       " 'train-00001-of-00072.parquet',\n",
       " 'train-00002-of-00072.parquet',\n",
       " 'train-00003-of-00072.parquet',\n",
       " 'train-00004-of-00072.parquet',\n",
       " 'train-00005-of-00072.parquet',\n",
       " 'train-00006-of-00072.parquet',\n",
       " 'train-00007-of-00072.parquet',\n",
       " 'train-00008-of-00072.parquet',\n",
       " 'train-00009-of-00072.parquet',\n",
       " 'train-00010-of-00072.parquet',\n",
       " 'train-00011-of-00072.parquet',\n",
       " 'train-00012-of-00072.parquet',\n",
       " 'train-00013-of-00072.parquet',\n",
       " 'train-00014-of-00072.parquet',\n",
       " 'train-00015-of-00072.parquet',\n",
       " 'train-00016-of-00072.parquet',\n",
       " 'train-00017-of-00072.parquet',\n",
       " 'train-00018-of-00072.parquet',\n",
       " 'train-00019-of-00072.parquet',\n",
       " 'train-00020-of-00072.parquet',\n",
       " 'train-00021-of-00072.parquet',\n",
       " 'train-00022-of-00072.parquet',\n",
       " 'train-00023-of-00072.parquet',\n",
       " 'train-00024-of-00072.parquet',\n",
       " 'train-00025-of-00072.parquet',\n",
       " 'train-00026-of-00072.parquet',\n",
       " 'train-00027-of-00072.parquet',\n",
       " 'train-00028-of-00072.parquet',\n",
       " 'train-00029-of-00072.parquet',\n",
       " 'train-00030-of-00072.parquet',\n",
       " 'train-00031-of-00072.parquet',\n",
       " 'train-00032-of-00072.parquet',\n",
       " 'train-00033-of-00072.parquet',\n",
       " 'train-00034-of-00072.parquet',\n",
       " 'train-00035-of-00072.parquet',\n",
       " 'train-00036-of-00072.parquet',\n",
       " 'train-00037-of-00072.parquet',\n",
       " 'train-00038-of-00072.parquet',\n",
       " 'train-00039-of-00072.parquet',\n",
       " 'train-00040-of-00072.parquet',\n",
       " 'train-00041-of-00072.parquet',\n",
       " 'train-00042-of-00072.parquet',\n",
       " 'train-00043-of-00072.parquet',\n",
       " 'train-00044-of-00072.parquet',\n",
       " 'train-00045-of-00072.parquet',\n",
       " 'train-00046-of-00072.parquet',\n",
       " 'train-00047-of-00072.parquet',\n",
       " 'train-00048-of-00072.parquet',\n",
       " 'train-00049-of-00072.parquet']"
      ]
     },
     "execution_count": 5,
     "metadata": {},
     "output_type": "execute_result"
    }
   ],
   "source": [
    "paths = sorted(paths)\n",
    "paths [:50]"
   ]
  },
  {
   "cell_type": "code",
   "execution_count": 68,
   "metadata": {},
   "outputs": [],
   "source": [
    "total = pd.read_parquet('/Users/aayush/Downloads/wikiart/'+paths[0])"
   ]
  },
  {
   "cell_type": "code",
   "execution_count": 79,
   "metadata": {},
   "outputs": [
    {
     "data": {
      "text/plain": [
       "<matplotlib.image.AxesImage at 0x161981c10>"
      ]
     },
     "execution_count": 79,
     "metadata": {},
     "output_type": "execute_result"
    },
    {
     "data": {
      "image/png": "[encoded data removed]",
      "text/plain": [
       "<Figure size 640x480 with 1 Axes>"
      ]
     },
     "metadata": {},
     "output_type": "display_data"
    }
   ],
   "source": [
    "i = Image.open(io.BytesIO(total.loc[0,'image']['bytes']))\n",
    "i.size\n",
    "i\n",
    "import matplotlib.pyplot as plt\n",
    "plt.imshow(i.resize((128,128)))"
   ]
  },
  {
   "cell_type": "code",
   "execution_count": 80,
   "metadata": {},
   "outputs": [
    {
     "name": "stderr",
     "output_type": "stream",
     "text": [
      "  0%|          | 0/72 [00:00<?, ?it/s]"
     ]
    },
    {
     "data": {
      "application/vnd.jupyter.widget-view+json": {
       "model_id": "d3d59602103a44a281e3c78c646cb856",
       "version_major": 2,
       "version_minor": 0
      },
      "text/plain": [
       "VBox(children=(HBox(children=(IntProgress(value=0, description='0.00%', max=126), Label(value='0 / 126'))), HB…"
      ]
     },
     "metadata": {},
     "output_type": "display_data"
    },
    {
     "name": "stderr",
     "output_type": "stream",
     "text": [
      "  1%|▏         | 1/72 [00:11<14:07, 11.94s/it]"
     ]
    },
    {
     "data": {
      "application/vnd.jupyter.widget-view+json": {
       "model_id": "e23dc826230e4b51bdbe570906d99b18",
       "version_major": 2,
       "version_minor": 0
      },
      "text/plain": [
       "VBox(children=(HBox(children=(IntProgress(value=0, description='0.00%', max=126), Label(value='0 / 126'))), HB…"
      ]
     },
     "metadata": {},
     "output_type": "display_data"
    },
    {
     "name": "stderr",
     "output_type": "stream",
     "text": [
      "  3%|▎         | 2/72 [00:22<12:59, 11.14s/it]"
     ]
    },
    {
     "data": {
      "application/vnd.jupyter.widget-view+json": {
       "model_id": "c356b3d2c01641c7acbe2863976719fb",
       "version_major": 2,
       "version_minor": 0
      },
      "text/plain": [
       "VBox(children=(HBox(children=(IntProgress(value=0, description='0.00%', max=126), Label(value='0 / 126'))), HB…"
      ]
     },
     "metadata": {},
     "output_type": "display_data"
    },
    {
     "name": "stderr",
     "output_type": "stream",
     "text": [
      "  4%|▍         | 3/72 [00:32<12:26, 10.82s/it]"
     ]
    },
    {
     "data": {
      "application/vnd.jupyter.widget-view+json": {
       "model_id": "bb59bc0901d64036be6634fc57a27f6d",
       "version_major": 2,
       "version_minor": 0
      },
      "text/plain": [
       "VBox(children=(HBox(children=(IntProgress(value=0, description='0.00%', max=126), Label(value='0 / 126'))), HB…"
      ]
     },
     "metadata": {},
     "output_type": "display_data"
    },
    {
     "name": "stderr",
     "output_type": "stream",
     "text": [
      "  6%|▌         | 4/72 [00:43<12:07, 10.70s/it]"
     ]
    },
    {
     "data": {
      "application/vnd.jupyter.widget-view+json": {
       "model_id": "812ca1845a6444e0a85ff371578ae6d6",
       "version_major": 2,
       "version_minor": 0
      },
      "text/plain": [
       "VBox(children=(HBox(children=(IntProgress(value=0, description='0.00%', max=126), Label(value='0 / 126'))), HB…"
      ]
     },
     "metadata": {},
     "output_type": "display_data"
    },
    {
     "name": "stderr",
     "output_type": "stream",
     "text": [
      "  7%|▋         | 5/72 [00:54<11:59, 10.74s/it]"
     ]
    },
    {
     "data": {
      "application/vnd.jupyter.widget-view+json": {
       "model_id": "a6dccf288bf8476eb114ceb75a576fca",
       "version_major": 2,
       "version_minor": 0
      },
      "text/plain": [
       "VBox(children=(HBox(children=(IntProgress(value=0, description='0.00%', max=126), Label(value='0 / 126'))), HB…"
      ]
     },
     "metadata": {},
     "output_type": "display_data"
    },
    {
     "name": "stderr",
     "output_type": "stream",
     "text": [
      "  8%|▊         | 6/72 [01:05<11:54, 10.83s/it]"
     ]
    },
    {
     "data": {
      "application/vnd.jupyter.widget-view+json": {
       "model_id": "1c811d2f00e3448ea753b97781fa79cf",
       "version_major": 2,
       "version_minor": 0
      },
      "text/plain": [
       "VBox(children=(HBox(children=(IntProgress(value=0, description='0.00%', max=126), Label(value='0 / 126'))), HB…"
      ]
     },
     "metadata": {},
     "output_type": "display_data"
    },
    {
     "name": "stderr",
     "output_type": "stream",
     "text": [
      " 10%|▉         | 7/72 [01:16<11:43, 10.82s/it]"
     ]
    },
    {
     "data": {
      "application/vnd.jupyter.widget-view+json": {
       "model_id": "2d91d4c5a16b44d391d55593d4b5fc59",
       "version_major": 2,
       "version_minor": 0
      },
      "text/plain": [
       "VBox(children=(HBox(children=(IntProgress(value=0, description='0.00%', max=126), Label(value='0 / 126'))), HB…"
      ]
     },
     "metadata": {},
     "output_type": "display_data"
    },
    {
     "name": "stderr",
     "output_type": "stream",
     "text": [
      " 11%|█         | 8/72 [01:26<11:30, 10.79s/it]"
     ]
    },
    {
     "data": {
      "application/vnd.jupyter.widget-view+json": {
       "model_id": "6614cc87f18446ab854db8234a53952d",
       "version_major": 2,
       "version_minor": 0
      },
      "text/plain": [
       "VBox(children=(HBox(children=(IntProgress(value=0, description='0.00%', max=126), Label(value='0 / 126'))), HB…"
      ]
     },
     "metadata": {},
     "output_type": "display_data"
    },
    {
     "name": "stderr",
     "output_type": "stream",
     "text": [
      " 12%|█▎        | 9/72 [01:37<11:12, 10.68s/it]"
     ]
    },
    {
     "data": {
      "application/vnd.jupyter.widget-view+json": {
       "model_id": "51ff83578a3d43a49a6d8ae192a29641",
       "version_major": 2,
       "version_minor": 0
      },
      "text/plain": [
       "VBox(children=(HBox(children=(IntProgress(value=0, description='0.00%', max=126), Label(value='0 / 126'))), HB…"
      ]
     },
     "metadata": {},
     "output_type": "display_data"
    },
    {
     "name": "stderr",
     "output_type": "stream",
     "text": [
      " 14%|█▍        | 10/72 [01:48<11:14, 10.87s/it]"
     ]
    },
    {
     "data": {
      "application/vnd.jupyter.widget-view+json": {
       "model_id": "d4ee392cee1a42aab8c159d263c439fb",
       "version_major": 2,
       "version_minor": 0
      },
      "text/plain": [
       "VBox(children=(HBox(children=(IntProgress(value=0, description='0.00%', max=126), Label(value='0 / 126'))), HB…"
      ]
     },
     "metadata": {},
     "output_type": "display_data"
    },
    {
     "name": "stderr",
     "output_type": "stream",
     "text": [
      " 15%|█▌        | 11/72 [01:58<10:53, 10.71s/it]"
     ]
    },
    {
     "data": {
      "application/vnd.jupyter.widget-view+json": {
       "model_id": "74ba49fefa444e8a922eb21d5bb0450a",
       "version_major": 2,
       "version_minor": 0
      },
      "text/plain": [
       "VBox(children=(HBox(children=(IntProgress(value=0, description='0.00%', max=126), Label(value='0 / 126'))), HB…"
      ]
     },
     "metadata": {},
     "output_type": "display_data"
    },
    {
     "name": "stderr",
     "output_type": "stream",
     "text": [
      " 17%|█▋        | 12/72 [02:08<10:20, 10.35s/it]"
     ]
    },
    {
     "data": {
      "application/vnd.jupyter.widget-view+json": {
       "model_id": "4ac383ef915946c89707e73f3a9e4abf",
       "version_major": 2,
       "version_minor": 0
      },
      "text/plain": [
       "VBox(children=(HBox(children=(IntProgress(value=0, description='0.00%', max=126), Label(value='0 / 126'))), HB…"
      ]
     },
     "metadata": {},
     "output_type": "display_data"
    },
    {
     "name": "stderr",
     "output_type": "stream",
     "text": [
      " 18%|█▊        | 13/72 [02:18<10:11, 10.37s/it]"
     ]
    },
    {
     "data": {
      "application/vnd.jupyter.widget-view+json": {
       "model_id": "86e6b21213e0421ab025c53bdf19983f",
       "version_major": 2,
       "version_minor": 0
      },
      "text/plain": [
       "VBox(children=(HBox(children=(IntProgress(value=0, description='0.00%', max=126), Label(value='0 / 126'))), HB…"
      ]
     },
     "metadata": {},
     "output_type": "display_data"
    },
    {
     "name": "stderr",
     "output_type": "stream",
     "text": [
      " 19%|█▉        | 14/72 [02:28<09:52, 10.22s/it]"
     ]
    },
    {
     "data": {
      "application/vnd.jupyter.widget-view+json": {
       "model_id": "bcbc6b5955ad4f95976e3df6d48aa7b7",
       "version_major": 2,
       "version_minor": 0
      },
      "text/plain": [
       "VBox(children=(HBox(children=(IntProgress(value=0, description='0.00%', max=126), Label(value='0 / 126'))), HB…"
      ]
     },
     "metadata": {},
     "output_type": "display_data"
    },
    {
     "name": "stderr",
     "output_type": "stream",
     "text": [
      " 21%|██        | 15/72 [02:38<09:38, 10.16s/it]"
     ]
    },
    {
     "data": {
      "application/vnd.jupyter.widget-view+json": {
       "model_id": "b84fb7c4d02340f591c05cad467069dd",
       "version_major": 2,
       "version_minor": 0
      },
      "text/plain": [
       "VBox(children=(HBox(children=(IntProgress(value=0, description='0.00%', max=126), Label(value='0 / 126'))), HB…"
      ]
     },
     "metadata": {},
     "output_type": "display_data"
    },
    {
     "name": "stderr",
     "output_type": "stream",
     "text": [
      " 22%|██▏       | 16/72 [02:48<09:28, 10.15s/it]"
     ]
    },
    {
     "data": {
      "application/vnd.jupyter.widget-view+json": {
       "model_id": "d0963eec75a84d8e8971557b198ed897",
       "version_major": 2,
       "version_minor": 0
      },
      "text/plain": [
       "VBox(children=(HBox(children=(IntProgress(value=0, description='0.00%', max=126), Label(value='0 / 126'))), HB…"
      ]
     },
     "metadata": {},
     "output_type": "display_data"
    },
    {
     "name": "stderr",
     "output_type": "stream",
     "text": [
      " 24%|██▎       | 17/72 [02:58<09:15, 10.09s/it]"
     ]
    },
    {
     "data": {
      "application/vnd.jupyter.widget-view+json": {
       "model_id": "4b5d90ae1a6d46af9b90b75fae73dca9",
       "version_major": 2,
       "version_minor": 0
      },
      "text/plain": [
       "VBox(children=(HBox(children=(IntProgress(value=0, description='0.00%', max=126), Label(value='0 / 126'))), HB…"
      ]
     },
     "metadata": {},
     "output_type": "display_data"
    },
    {
     "name": "stderr",
     "output_type": "stream",
     "text": [
      " 25%|██▌       | 18/72 [03:08<08:55,  9.91s/it]"
     ]
    },
    {
     "data": {
      "application/vnd.jupyter.widget-view+json": {
       "model_id": "0c2010fcae494cd4827e2665a9b4c22e",
       "version_major": 2,
       "version_minor": 0
      },
      "text/plain": [
       "VBox(children=(HBox(children=(IntProgress(value=0, description='0.00%', max=126), Label(value='0 / 126'))), HB…"
      ]
     },
     "metadata": {},
     "output_type": "display_data"
    },
    {
     "name": "stderr",
     "output_type": "stream",
     "text": [
      " 26%|██▋       | 19/72 [03:17<08:38,  9.78s/it]"
     ]
    },
    {
     "data": {
      "application/vnd.jupyter.widget-view+json": {
       "model_id": "a1841ce2d94342fd8afcae8c394fd45c",
       "version_major": 2,
       "version_minor": 0
      },
      "text/plain": [
       "VBox(children=(HBox(children=(IntProgress(value=0, description='0.00%', max=126), Label(value='0 / 126'))), HB…"
      ]
     },
     "metadata": {},
     "output_type": "display_data"
    },
    {
     "name": "stderr",
     "output_type": "stream",
     "text": [
      " 28%|██▊       | 20/72 [03:28<08:35,  9.92s/it]"
     ]
    },
    {
     "data": {
      "application/vnd.jupyter.widget-view+json": {
       "model_id": "6951bf8e187d4316bf17c4dcd95c0e10",
       "version_major": 2,
       "version_minor": 0
      },
      "text/plain": [
       "VBox(children=(HBox(children=(IntProgress(value=0, description='0.00%', max=126), Label(value='0 / 126'))), HB…"
      ]
     },
     "metadata": {},
     "output_type": "display_data"
    },
    {
     "name": "stderr",
     "output_type": "stream",
     "text": [
      " 29%|██▉       | 21/72 [03:37<08:19,  9.79s/it]"
     ]
    },
    {
     "data": {
      "application/vnd.jupyter.widget-view+json": {
       "model_id": "b9064dea128d416fb0cf7a3c077037b4",
       "version_major": 2,
       "version_minor": 0
      },
      "text/plain": [
       "VBox(children=(HBox(children=(IntProgress(value=0, description='0.00%', max=126), Label(value='0 / 126'))), HB…"
      ]
     },
     "metadata": {},
     "output_type": "display_data"
    },
    {
     "name": "stderr",
     "output_type": "stream",
     "text": [
      " 31%|███       | 22/72 [03:47<08:10,  9.81s/it]"
     ]
    },
    {
     "data": {
      "application/vnd.jupyter.widget-view+json": {
       "model_id": "d5dbcddfda8a4c43bfc6450aaa1b22c0",
       "version_major": 2,
       "version_minor": 0
      },
      "text/plain": [
       "VBox(children=(HBox(children=(IntProgress(value=0, description='0.00%', max=126), Label(value='0 / 126'))), HB…"
      ]
     },
     "metadata": {},
     "output_type": "display_data"
    },
    {
     "name": "stderr",
     "output_type": "stream",
     "text": [
      " 32%|███▏      | 23/72 [03:58<08:12, 10.06s/it]"
     ]
    },
    {
     "data": {
      "application/vnd.jupyter.widget-view+json": {
       "model_id": "fea21d40b2d140598272aba8585fea26",
       "version_major": 2,
       "version_minor": 0
      },
      "text/plain": [
       "VBox(children=(HBox(children=(IntProgress(value=0, description='0.00%', max=126), Label(value='0 / 126'))), HB…"
      ]
     },
     "metadata": {},
     "output_type": "display_data"
    },
    {
     "name": "stderr",
     "output_type": "stream",
     "text": [
      " 33%|███▎      | 24/72 [04:08<08:15, 10.33s/it]"
     ]
    },
    {
     "data": {
      "application/vnd.jupyter.widget-view+json": {
       "model_id": "d1b8784984c4469d8f05953faffa0542",
       "version_major": 2,
       "version_minor": 0
      },
      "text/plain": [
       "VBox(children=(HBox(children=(IntProgress(value=0, description='0.00%', max=126), Label(value='0 / 126'))), HB…"
      ]
     },
     "metadata": {},
     "output_type": "display_data"
    },
    {
     "name": "stderr",
     "output_type": "stream",
     "text": [
      " 35%|███▍      | 25/72 [04:19<08:06, 10.35s/it]"
     ]
    },
    {
     "data": {
      "application/vnd.jupyter.widget-view+json": {
       "model_id": "795513f194e84a03bffb99f2c30359c6",
       "version_major": 2,
       "version_minor": 0
      },
      "text/plain": [
       "VBox(children=(HBox(children=(IntProgress(value=0, description='0.00%', max=126), Label(value='0 / 126'))), HB…"
      ]
     },
     "metadata": {},
     "output_type": "display_data"
    },
    {
     "name": "stderr",
     "output_type": "stream",
     "text": [
      " 36%|███▌      | 26/72 [04:30<08:04, 10.54s/it]"
     ]
    },
    {
     "data": {
      "application/vnd.jupyter.widget-view+json": {
       "model_id": "2d230e0e2d86477db3350857c4b71821",
       "version_major": 2,
       "version_minor": 0
      },
      "text/plain": [
       "VBox(children=(HBox(children=(IntProgress(value=0, description='0.00%', max=126), Label(value='0 / 126'))), HB…"
      ]
     },
     "metadata": {},
     "output_type": "display_data"
    },
    {
     "name": "stderr",
     "output_type": "stream",
     "text": [
      " 38%|███▊      | 27/72 [04:41<08:06, 10.82s/it]"
     ]
    },
    {
     "data": {
      "application/vnd.jupyter.widget-view+json": {
       "model_id": "d2136f514b304a168a802402bd709939",
       "version_major": 2,
       "version_minor": 0
      },
      "text/plain": [
       "VBox(children=(HBox(children=(IntProgress(value=0, description='0.00%', max=126), Label(value='0 / 126'))), HB…"
      ]
     },
     "metadata": {},
     "output_type": "display_data"
    },
    {
     "name": "stderr",
     "output_type": "stream",
     "text": [
      " 39%|███▉      | 28/72 [04:52<07:51, 10.72s/it]"
     ]
    },
    {
     "data": {
      "application/vnd.jupyter.widget-view+json": {
       "model_id": "acbda45f5fca46fbad204ffa26811045",
       "version_major": 2,
       "version_minor": 0
      },
      "text/plain": [
       "VBox(children=(HBox(children=(IntProgress(value=0, description='0.00%', max=126), Label(value='0 / 126'))), HB…"
      ]
     },
     "metadata": {},
     "output_type": "display_data"
    },
    {
     "name": "stderr",
     "output_type": "stream",
     "text": [
      " 40%|████      | 29/72 [05:03<07:41, 10.73s/it]"
     ]
    },
    {
     "data": {
      "application/vnd.jupyter.widget-view+json": {
       "model_id": "754dfd6d8ac742efa4c0805c24ef0a7a",
       "version_major": 2,
       "version_minor": 0
      },
      "text/plain": [
       "VBox(children=(HBox(children=(IntProgress(value=0, description='0.00%', max=126), Label(value='0 / 126'))), HB…"
      ]
     },
     "metadata": {},
     "output_type": "display_data"
    },
    {
     "name": "stderr",
     "output_type": "stream",
     "text": [
      " 42%|████▏     | 30/72 [05:13<07:24, 10.57s/it]"
     ]
    },
    {
     "data": {
      "application/vnd.jupyter.widget-view+json": {
       "model_id": "cdaa160c76a64de584fded339bfd7268",
       "version_major": 2,
       "version_minor": 0
      },
      "text/plain": [
       "VBox(children=(HBox(children=(IntProgress(value=0, description='0.00%', max=126), Label(value='0 / 126'))), HB…"
      ]
     },
     "metadata": {},
     "output_type": "display_data"
    },
    {
     "name": "stderr",
     "output_type": "stream",
     "text": [
      " 43%|████▎     | 31/72 [05:24<07:21, 10.77s/it]"
     ]
    },
    {
     "data": {
      "application/vnd.jupyter.widget-view+json": {
       "model_id": "e842bff7e7204250b4940fc192778632",
       "version_major": 2,
       "version_minor": 0
      },
      "text/plain": [
       "VBox(children=(HBox(children=(IntProgress(value=0, description='0.00%', max=126), Label(value='0 / 126'))), HB…"
      ]
     },
     "metadata": {},
     "output_type": "display_data"
    },
    {
     "name": "stderr",
     "output_type": "stream",
     "text": [
      " 44%|████▍     | 32/72 [05:35<07:09, 10.75s/it]"
     ]
    },
    {
     "data": {
      "application/vnd.jupyter.widget-view+json": {
       "model_id": "8b6f20042d6443d8ba6417bcb4752650",
       "version_major": 2,
       "version_minor": 0
      },
      "text/plain": [
       "VBox(children=(HBox(children=(IntProgress(value=0, description='0.00%', max=126), Label(value='0 / 126'))), HB…"
      ]
     },
     "metadata": {},
     "output_type": "display_data"
    },
    {
     "name": "stderr",
     "output_type": "stream",
     "text": [
      " 46%|████▌     | 33/72 [05:44<06:44, 10.38s/it]"
     ]
    },
    {
     "data": {
      "application/vnd.jupyter.widget-view+json": {
       "model_id": "fb0c98325b14458d8c424bb24a2bf2fe",
       "version_major": 2,
       "version_minor": 0
      },
      "text/plain": [
       "VBox(children=(HBox(children=(IntProgress(value=0, description='0.00%', max=126), Label(value='0 / 126'))), HB…"
      ]
     },
     "metadata": {},
     "output_type": "display_data"
    },
    {
     "name": "stderr",
     "output_type": "stream",
     "text": [
      " 47%|████▋     | 34/72 [05:54<06:27, 10.18s/it]"
     ]
    },
    {
     "data": {
      "application/vnd.jupyter.widget-view+json": {
       "model_id": "6de62c584fb04098bc80df92efa07c54",
       "version_major": 2,
       "version_minor": 0
      },
      "text/plain": [
       "VBox(children=(HBox(children=(IntProgress(value=0, description='0.00%', max=126), Label(value='0 / 126'))), HB…"
      ]
     },
     "metadata": {},
     "output_type": "display_data"
    },
    {
     "name": "stderr",
     "output_type": "stream",
     "text": [
      " 49%|████▊     | 35/72 [06:04<06:14, 10.13s/it]"
     ]
    },
    {
     "data": {
      "application/vnd.jupyter.widget-view+json": {
       "model_id": "31d111bc1d694c2f8510890cba6b250c",
       "version_major": 2,
       "version_minor": 0
      },
      "text/plain": [
       "VBox(children=(HBox(children=(IntProgress(value=0, description='0.00%', max=126), Label(value='0 / 126'))), HB…"
      ]
     },
     "metadata": {},
     "output_type": "display_data"
    },
    {
     "name": "stderr",
     "output_type": "stream",
     "text": [
      " 50%|█████     | 36/72 [06:15<06:17, 10.48s/it]"
     ]
    },
    {
     "data": {
      "application/vnd.jupyter.widget-view+json": {
       "model_id": "de58bf0a504f429ab7ed1400fa9ff8bc",
       "version_major": 2,
       "version_minor": 0
      },
      "text/plain": [
       "VBox(children=(HBox(children=(IntProgress(value=0, description='0.00%', max=126), Label(value='0 / 126'))), HB…"
      ]
     },
     "metadata": {},
     "output_type": "display_data"
    },
    {
     "name": "stderr",
     "output_type": "stream",
     "text": [
      " 51%|█████▏    | 37/72 [06:26<06:05, 10.44s/it]"
     ]
    },
    {
     "data": {
      "application/vnd.jupyter.widget-view+json": {
       "model_id": "1cec3b14366f4d8e9ba48cdd3a905de3",
       "version_major": 2,
       "version_minor": 0
      },
      "text/plain": [
       "VBox(children=(HBox(children=(IntProgress(value=0, description='0.00%', max=126), Label(value='0 / 126'))), HB…"
      ]
     },
     "metadata": {},
     "output_type": "display_data"
    },
    {
     "name": "stderr",
     "output_type": "stream",
     "text": [
      " 53%|█████▎    | 38/72 [06:37<06:06, 10.78s/it]"
     ]
    },
    {
     "data": {
      "application/vnd.jupyter.widget-view+json": {
       "model_id": "7df240bd7f124abc926756db71dd48f6",
       "version_major": 2,
       "version_minor": 0
      },
      "text/plain": [
       "VBox(children=(HBox(children=(IntProgress(value=0, description='0.00%', max=126), Label(value='0 / 126'))), HB…"
      ]
     },
     "metadata": {},
     "output_type": "display_data"
    },
    {
     "name": "stderr",
     "output_type": "stream",
     "text": [
      " 54%|█████▍    | 39/72 [06:50<06:13, 11.33s/it]"
     ]
    },
    {
     "data": {
      "application/vnd.jupyter.widget-view+json": {
       "model_id": "49c685f64a184f778161ffc3780d1f39",
       "version_major": 2,
       "version_minor": 0
      },
      "text/plain": [
       "VBox(children=(HBox(children=(IntProgress(value=0, description='0.00%', max=126), Label(value='0 / 126'))), HB…"
      ]
     },
     "metadata": {},
     "output_type": "display_data"
    },
    {
     "name": "stderr",
     "output_type": "stream",
     "text": [
      " 56%|█████▌    | 40/72 [07:01<05:59, 11.24s/it]"
     ]
    },
    {
     "data": {
      "application/vnd.jupyter.widget-view+json": {
       "model_id": "981ece49d7ef46c791b4afc0bfd4dc6b",
       "version_major": 2,
       "version_minor": 0
      },
      "text/plain": [
       "VBox(children=(HBox(children=(IntProgress(value=0, description='0.00%', max=126), Label(value='0 / 126'))), HB…"
      ]
     },
     "metadata": {},
     "output_type": "display_data"
    },
    {
     "name": "stderr",
     "output_type": "stream",
     "text": [
      " 57%|█████▋    | 41/72 [07:11<05:38, 10.93s/it]"
     ]
    },
    {
     "data": {
      "application/vnd.jupyter.widget-view+json": {
       "model_id": "5eda229b26c24294bcea415192b529b2",
       "version_major": 2,
       "version_minor": 0
      },
      "text/plain": [
       "VBox(children=(HBox(children=(IntProgress(value=0, description='0.00%', max=126), Label(value='0 / 126'))), HB…"
      ]
     },
     "metadata": {},
     "output_type": "display_data"
    },
    {
     "name": "stderr",
     "output_type": "stream",
     "text": [
      " 58%|█████▊    | 42/72 [07:21<05:22, 10.75s/it]"
     ]
    },
    {
     "data": {
      "application/vnd.jupyter.widget-view+json": {
       "model_id": "e26e588a082d45dabe32351f5ce4b735",
       "version_major": 2,
       "version_minor": 0
      },
      "text/plain": [
       "VBox(children=(HBox(children=(IntProgress(value=0, description='0.00%', max=126), Label(value='0 / 126'))), HB…"
      ]
     },
     "metadata": {},
     "output_type": "display_data"
    },
    {
     "name": "stderr",
     "output_type": "stream",
     "text": [
      " 60%|█████▉    | 43/72 [07:31<05:04, 10.51s/it]"
     ]
    },
    {
     "data": {
      "application/vnd.jupyter.widget-view+json": {
       "model_id": "1c3b48141a8e48f2a8124cade17fc1c4",
       "version_major": 2,
       "version_minor": 0
      },
      "text/plain": [
       "VBox(children=(HBox(children=(IntProgress(value=0, description='0.00%', max=126), Label(value='0 / 126'))), HB…"
      ]
     },
     "metadata": {},
     "output_type": "display_data"
    },
    {
     "name": "stderr",
     "output_type": "stream",
     "text": [
      " 61%|██████    | 44/72 [07:42<04:56, 10.60s/it]"
     ]
    },
    {
     "data": {
      "application/vnd.jupyter.widget-view+json": {
       "model_id": "b5729f74eab441af9da6b00a8feb1bb7",
       "version_major": 2,
       "version_minor": 0
      },
      "text/plain": [
       "VBox(children=(HBox(children=(IntProgress(value=0, description='0.00%', max=126), Label(value='0 / 126'))), HB…"
      ]
     },
     "metadata": {},
     "output_type": "display_data"
    },
    {
     "name": "stderr",
     "output_type": "stream",
     "text": [
      " 62%|██████▎   | 45/72 [07:54<04:55, 10.95s/it]"
     ]
    },
    {
     "data": {
      "application/vnd.jupyter.widget-view+json": {
       "model_id": "aa17b4a0a66646e383c6642072790432",
       "version_major": 2,
       "version_minor": 0
      },
      "text/plain": [
       "VBox(children=(HBox(children=(IntProgress(value=0, description='0.00%', max=126), Label(value='0 / 126'))), HB…"
      ]
     },
     "metadata": {},
     "output_type": "display_data"
    },
    {
     "name": "stderr",
     "output_type": "stream",
     "text": [
      " 64%|██████▍   | 46/72 [08:05<04:48, 11.08s/it]"
     ]
    },
    {
     "data": {
      "application/vnd.jupyter.widget-view+json": {
       "model_id": "91f2bbe0ac744e8da82bf0e793cfa54e",
       "version_major": 2,
       "version_minor": 0
      },
      "text/plain": [
       "VBox(children=(HBox(children=(IntProgress(value=0, description='0.00%', max=126), Label(value='0 / 126'))), HB…"
      ]
     },
     "metadata": {},
     "output_type": "display_data"
    },
    {
     "name": "stderr",
     "output_type": "stream",
     "text": [
      " 65%|██████▌   | 47/72 [08:16<04:37, 11.11s/it]"
     ]
    },
    {
     "data": {
      "application/vnd.jupyter.widget-view+json": {
       "model_id": "4ea806fa31f84e339a090aa74267229a",
       "version_major": 2,
       "version_minor": 0
      },
      "text/plain": [
       "VBox(children=(HBox(children=(IntProgress(value=0, description='0.00%', max=126), Label(value='0 / 126'))), HB…"
      ]
     },
     "metadata": {},
     "output_type": "display_data"
    },
    {
     "name": "stderr",
     "output_type": "stream",
     "text": [
      " 67%|██████▋   | 48/72 [08:27<04:20, 10.86s/it]"
     ]
    },
    {
     "data": {
      "application/vnd.jupyter.widget-view+json": {
       "model_id": "489178d65fef4f1ea0748385f97ec0f4",
       "version_major": 2,
       "version_minor": 0
      },
      "text/plain": [
       "VBox(children=(HBox(children=(IntProgress(value=0, description='0.00%', max=126), Label(value='0 / 126'))), HB…"
      ]
     },
     "metadata": {},
     "output_type": "display_data"
    },
    {
     "name": "stderr",
     "output_type": "stream",
     "text": [
      " 68%|██████▊   | 49/72 [08:37<04:08, 10.81s/it]"
     ]
    },
    {
     "data": {
      "application/vnd.jupyter.widget-view+json": {
       "model_id": "05d2bcac83d84ba69783fbdcd7157d0f",
       "version_major": 2,
       "version_minor": 0
      },
      "text/plain": [
       "VBox(children=(HBox(children=(IntProgress(value=0, description='0.00%', max=126), Label(value='0 / 126'))), HB…"
      ]
     },
     "metadata": {},
     "output_type": "display_data"
    },
    {
     "name": "stderr",
     "output_type": "stream",
     "text": [
      " 69%|██████▉   | 50/72 [08:48<03:57, 10.80s/it]"
     ]
    },
    {
     "data": {
      "application/vnd.jupyter.widget-view+json": {
       "model_id": "7f041b6a010e4f1c9b14a526e032a115",
       "version_major": 2,
       "version_minor": 0
      },
      "text/plain": [
       "VBox(children=(HBox(children=(IntProgress(value=0, description='0.00%', max=126), Label(value='0 / 126'))), HB…"
      ]
     },
     "metadata": {},
     "output_type": "display_data"
    },
    {
     "name": "stderr",
     "output_type": "stream",
     "text": [
      " 71%|███████   | 51/72 [08:58<03:38, 10.41s/it]"
     ]
    },
    {
     "data": {
      "application/vnd.jupyter.widget-view+json": {
       "model_id": "cce5581fb0a74fddabc1833fe553663e",
       "version_major": 2,
       "version_minor": 0
      },
      "text/plain": [
       "VBox(children=(HBox(children=(IntProgress(value=0, description='0.00%', max=126), Label(value='0 / 126'))), HB…"
      ]
     },
     "metadata": {},
     "output_type": "display_data"
    },
    {
     "name": "stderr",
     "output_type": "stream",
     "text": [
      " 72%|███████▏  | 52/72 [09:07<03:24, 10.23s/it]"
     ]
    },
    {
     "data": {
      "application/vnd.jupyter.widget-view+json": {
       "model_id": "58d425ebb64249ae934138aee2dfc6f2",
       "version_major": 2,
       "version_minor": 0
      },
      "text/plain": [
       "VBox(children=(HBox(children=(IntProgress(value=0, description='0.00%', max=126), Label(value='0 / 126'))), HB…"
      ]
     },
     "metadata": {},
     "output_type": "display_data"
    },
    {
     "name": "stderr",
     "output_type": "stream",
     "text": [
      " 74%|███████▎  | 53/72 [09:17<03:09,  9.95s/it]"
     ]
    },
    {
     "data": {
      "application/vnd.jupyter.widget-view+json": {
       "model_id": "25989085146b4ae19ec408a6567d7af3",
       "version_major": 2,
       "version_minor": 0
      },
      "text/plain": [
       "VBox(children=(HBox(children=(IntProgress(value=0, description='0.00%', max=126), Label(value='0 / 126'))), HB…"
      ]
     },
     "metadata": {},
     "output_type": "display_data"
    },
    {
     "name": "stderr",
     "output_type": "stream",
     "text": [
      " 75%|███████▌  | 54/72 [09:26<02:56,  9.78s/it]"
     ]
    },
    {
     "data": {
      "application/vnd.jupyter.widget-view+json": {
       "model_id": "a6a533c436984b238cb2f2cf3abf38f4",
       "version_major": 2,
       "version_minor": 0
      },
      "text/plain": [
       "VBox(children=(HBox(children=(IntProgress(value=0, description='0.00%', max=126), Label(value='0 / 126'))), HB…"
      ]
     },
     "metadata": {},
     "output_type": "display_data"
    },
    {
     "name": "stderr",
     "output_type": "stream",
     "text": [
      " 76%|███████▋  | 55/72 [09:36<02:45,  9.76s/it]"
     ]
    },
    {
     "data": {
      "application/vnd.jupyter.widget-view+json": {
       "model_id": "a8ab9160603c402981d28af3b22f1972",
       "version_major": 2,
       "version_minor": 0
      },
      "text/plain": [
       "VBox(children=(HBox(children=(IntProgress(value=0, description='0.00%', max=126), Label(value='0 / 126'))), HB…"
      ]
     },
     "metadata": {},
     "output_type": "display_data"
    },
    {
     "name": "stderr",
     "output_type": "stream",
     "text": [
      " 78%|███████▊  | 56/72 [09:46<02:35,  9.73s/it]"
     ]
    },
    {
     "data": {
      "application/vnd.jupyter.widget-view+json": {
       "model_id": "033fbe3682dd41af8bbaf003f5bc72e4",
       "version_major": 2,
       "version_minor": 0
      },
      "text/plain": [
       "VBox(children=(HBox(children=(IntProgress(value=0, description='0.00%', max=126), Label(value='0 / 126'))), HB…"
      ]
     },
     "metadata": {},
     "output_type": "display_data"
    },
    {
     "name": "stderr",
     "output_type": "stream",
     "text": [
      " 79%|███████▉  | 57/72 [09:55<02:24,  9.63s/it]"
     ]
    },
    {
     "data": {
      "application/vnd.jupyter.widget-view+json": {
       "model_id": "bee380c170ff43a68f388dd537de56ee",
       "version_major": 2,
       "version_minor": 0
      },
      "text/plain": [
       "VBox(children=(HBox(children=(IntProgress(value=0, description='0.00%', max=126), Label(value='0 / 126'))), HB…"
      ]
     },
     "metadata": {},
     "output_type": "display_data"
    },
    {
     "name": "stderr",
     "output_type": "stream",
     "text": [
      " 81%|████████  | 58/72 [10:05<02:14,  9.62s/it]"
     ]
    },
    {
     "data": {
      "application/vnd.jupyter.widget-view+json": {
       "model_id": "f2312e65a2cf47bf85bb795083f9e122",
       "version_major": 2,
       "version_minor": 0
      },
      "text/plain": [
       "VBox(children=(HBox(children=(IntProgress(value=0, description='0.00%', max=126), Label(value='0 / 126'))), HB…"
      ]
     },
     "metadata": {},
     "output_type": "display_data"
    },
    {
     "name": "stderr",
     "output_type": "stream",
     "text": [
      " 82%|████████▏ | 59/72 [10:13<02:02,  9.40s/it]"
     ]
    },
    {
     "data": {
      "application/vnd.jupyter.widget-view+json": {
       "model_id": "fb7fb06172bf47e8b650bf6238e90f2e",
       "version_major": 2,
       "version_minor": 0
      },
      "text/plain": [
       "VBox(children=(HBox(children=(IntProgress(value=0, description='0.00%', max=126), Label(value='0 / 126'))), HB…"
      ]
     },
     "metadata": {},
     "output_type": "display_data"
    },
    {
     "name": "stderr",
     "output_type": "stream",
     "text": [
      " 83%|████████▎ | 60/72 [10:22<01:51,  9.26s/it]"
     ]
    },
    {
     "data": {
      "application/vnd.jupyter.widget-view+json": {
       "model_id": "6d3e47dc8413432abbb164b3dc0057ae",
       "version_major": 2,
       "version_minor": 0
      },
      "text/plain": [
       "VBox(children=(HBox(children=(IntProgress(value=0, description='0.00%', max=126), Label(value='0 / 126'))), HB…"
      ]
     },
     "metadata": {},
     "output_type": "display_data"
    },
    {
     "name": "stderr",
     "output_type": "stream",
     "text": [
      " 85%|████████▍ | 61/72 [10:31<01:41,  9.22s/it]"
     ]
    },
    {
     "data": {
      "application/vnd.jupyter.widget-view+json": {
       "model_id": "8facf28112ca4259898ed3f791ea1d50",
       "version_major": 2,
       "version_minor": 0
      },
      "text/plain": [
       "VBox(children=(HBox(children=(IntProgress(value=0, description='0.00%', max=126), Label(value='0 / 126'))), HB…"
      ]
     },
     "metadata": {},
     "output_type": "display_data"
    },
    {
     "name": "stderr",
     "output_type": "stream",
     "text": [
      " 86%|████████▌ | 62/72 [10:41<01:32,  9.24s/it]"
     ]
    },
    {
     "data": {
      "application/vnd.jupyter.widget-view+json": {
       "model_id": "6eff5351cf714eeba20b51987d417e12",
       "version_major": 2,
       "version_minor": 0
      },
      "text/plain": [
       "VBox(children=(HBox(children=(IntProgress(value=0, description='0.00%', max=126), Label(value='0 / 126'))), HB…"
      ]
     },
     "metadata": {},
     "output_type": "display_data"
    },
    {
     "name": "stderr",
     "output_type": "stream",
     "text": [
      " 88%|████████▊ | 63/72 [10:52<01:27,  9.69s/it]"
     ]
    },
    {
     "data": {
      "application/vnd.jupyter.widget-view+json": {
       "model_id": "e10c3cf8766545fbb8aff7ec7da86d55",
       "version_major": 2,
       "version_minor": 0
      },
      "text/plain": [
       "VBox(children=(HBox(children=(IntProgress(value=0, description='0.00%', max=126), Label(value='0 / 126'))), HB…"
      ]
     },
     "metadata": {},
     "output_type": "display_data"
    },
    {
     "name": "stderr",
     "output_type": "stream",
     "text": [
      " 89%|████████▉ | 64/72 [11:02<01:20, 10.03s/it]"
     ]
    },
    {
     "data": {
      "application/vnd.jupyter.widget-view+json": {
       "model_id": "ab500cc47bad4cc89bc99662050ac379",
       "version_major": 2,
       "version_minor": 0
      },
      "text/plain": [
       "VBox(children=(HBox(children=(IntProgress(value=0, description='0.00%', max=126), Label(value='0 / 126'))), HB…"
      ]
     },
     "metadata": {},
     "output_type": "display_data"
    },
    {
     "name": "stderr",
     "output_type": "stream",
     "text": [
      " 90%|█████████ | 65/72 [11:13<01:10, 10.12s/it]"
     ]
    },
    {
     "data": {
      "application/vnd.jupyter.widget-view+json": {
       "model_id": "072ff68d687645929e32389138f8337a",
       "version_major": 2,
       "version_minor": 0
      },
      "text/plain": [
       "VBox(children=(HBox(children=(IntProgress(value=0, description='0.00%', max=126), Label(value='0 / 126'))), HB…"
      ]
     },
     "metadata": {},
     "output_type": "display_data"
    },
    {
     "name": "stderr",
     "output_type": "stream",
     "text": [
      " 92%|█████████▏| 66/72 [11:23<01:01, 10.23s/it]"
     ]
    },
    {
     "data": {
      "application/vnd.jupyter.widget-view+json": {
       "model_id": "c57cd25f628144a0a1e4e2dc03718fdd",
       "version_major": 2,
       "version_minor": 0
      },
      "text/plain": [
       "VBox(children=(HBox(children=(IntProgress(value=0, description='0.00%', max=126), Label(value='0 / 126'))), HB…"
      ]
     },
     "metadata": {},
     "output_type": "display_data"
    },
    {
     "name": "stderr",
     "output_type": "stream",
     "text": [
      " 93%|█████████▎| 67/72 [11:33<00:50, 10.10s/it]"
     ]
    },
    {
     "data": {
      "application/vnd.jupyter.widget-view+json": {
       "model_id": "a683cd0a6560491aa02480d5b6d04e49",
       "version_major": 2,
       "version_minor": 0
      },
      "text/plain": [
       "VBox(children=(HBox(children=(IntProgress(value=0, description='0.00%', max=126), Label(value='0 / 126'))), HB…"
      ]
     },
     "metadata": {},
     "output_type": "display_data"
    },
    {
     "name": "stderr",
     "output_type": "stream",
     "text": [
      " 94%|█████████▍| 68/72 [11:43<00:39,  9.95s/it]"
     ]
    },
    {
     "data": {
      "application/vnd.jupyter.widget-view+json": {
       "model_id": "4a7e2cbae694408a9cdf1826041cca59",
       "version_major": 2,
       "version_minor": 0
      },
      "text/plain": [
       "VBox(children=(HBox(children=(IntProgress(value=0, description='0.00%', max=126), Label(value='0 / 126'))), HB…"
      ]
     },
     "metadata": {},
     "output_type": "display_data"
    },
    {
     "name": "stderr",
     "output_type": "stream",
     "text": [
      " 96%|█████████▌| 69/72 [11:53<00:30, 10.16s/it]"
     ]
    },
    {
     "data": {
      "application/vnd.jupyter.widget-view+json": {
       "model_id": "577eddaa4b4e4641b4613e90ae9f4baa",
       "version_major": 2,
       "version_minor": 0
      },
      "text/plain": [
       "VBox(children=(HBox(children=(IntProgress(value=0, description='0.00%', max=126), Label(value='0 / 126'))), HB…"
      ]
     },
     "metadata": {},
     "output_type": "display_data"
    },
    {
     "name": "stderr",
     "output_type": "stream",
     "text": [
      " 97%|█████████▋| 70/72 [12:03<00:20, 10.10s/it]"
     ]
    },
    {
     "data": {
      "application/vnd.jupyter.widget-view+json": {
       "model_id": "29f14391951c4780b0c823308ddcae71",
       "version_major": 2,
       "version_minor": 0
      },
      "text/plain": [
       "VBox(children=(HBox(children=(IntProgress(value=0, description='0.00%', max=126), Label(value='0 / 126'))), HB…"
      ]
     },
     "metadata": {},
     "output_type": "display_data"
    },
    {
     "name": "stderr",
     "output_type": "stream",
     "text": [
      " 99%|█████████▊| 71/72 [12:14<00:10, 10.21s/it]"
     ]
    },
    {
     "data": {
      "application/vnd.jupyter.widget-view+json": {
       "model_id": "1e55db7160ce4ceaa7cfa03b36a31e5a",
       "version_major": 2,
       "version_minor": 0
      },
      "text/plain": [
       "VBox(children=(HBox(children=(IntProgress(value=0, description='0.00%', max=126), Label(value='0 / 126'))), HB…"
      ]
     },
     "metadata": {},
     "output_type": "display_data"
    },
    {
     "name": "stderr",
     "output_type": "stream",
     "text": [
      "100%|██████████| 72/72 [12:24<00:00, 10.33s/it]\n"
     ]
    }
   ],
   "source": [
    "imNum = 0\n",
    "for path in tqdm(paths):\n",
    "    df = pd.read_parquet('/Users/aayush/Downloads/wikiart/'+path)\n",
    "    df.parallel_apply(lambda x:Image.open(io.BytesIO(x['image']['bytes'])).resize((128,128)).save('/Users/aayush/Library/Mobile Documents/com~apple~CloudDocs/UChicago/Machine Learning/wikiartImages/'+str(x['genre'])+'/'+str(imNum)+'-'+str(x.name)+'.png'),axis = 1)\n",
    "    imNum = imNum+1\n",
    "    del df"
   ]
  },
  {
   "cell_type": "code",
   "execution_count": 81,
   "metadata": {},
   "outputs": [
    {
     "name": "stderr",
     "output_type": "stream",
     "text": [
      "Copying files: 81444 files [00:53, 1528.15 files/s]\n"
     ]
    }
   ],
   "source": [
    "splitfolders.ratio(\"/Users/aayush/Library/Mobile Documents/com~apple~CloudDocs/UChicago/Machine Learning/wikiartImages\", output=\"/Users/aayush/Library/Mobile Documents/com~apple~CloudDocs/UChicago/Machine Learning/wikiartImagesSplit\",\n",
    "    seed=1337, ratio=(.7, .2, .1), group_prefix=None, move=False)"
   ]
  },
  {
   "cell_type": "code",
   "execution_count": null,
   "metadata": {},
   "outputs": [],
   "source": [
    "os.remove(\"/Users/aayush/Library/Mobile Documents/com~apple~CloudDocs/UChicago/Machine Learning/wikiartImagesSplit/train/0\")\n",
    "os.remove(\"/Users/aayush/Library/Mobile Documents/com~apple~CloudDocs/UChicago/Machine Learning/wikiartImagesSplit/train/1\")\n",
    "os.remove(\"/Users/aayush/Library/Mobile Documents/com~apple~CloudDocs/UChicago/Machine Learning/wikiartImagesSplit/train/3\")\n",
    "os.remove(\"/Users/aayush/Library/Mobile Documents/com~apple~CloudDocs/UChicago/Machine Learning/wikiartImagesSplit/train/5\")\n",
    "os.remove(\"/Users/aayush/Library/Mobile Documents/com~apple~CloudDocs/UChicago/Machine Learning/wikiartImagesSplit/train/8\")\n",
    "os.remove(\"/Users/aayush/Library/Mobile Documents/com~apple~CloudDocs/UChicago/Machine Learning/wikiartImagesSplit/train/9\")\n",
    "os.remove(\"/Users/aayush/Library/Mobile Documents/com~apple~CloudDocs/UChicago/Machine Learning/wikiartImagesSplit/val/0\")\n",
    "os.remove(\"/Users/aayush/Library/Mobile Documents/com~apple~CloudDocs/UChicago/Machine Learning/wikiartImagesSplit/val/1\")\n",
    "os.remove(\"/Users/aayush/Library/Mobile Documents/com~apple~CloudDocs/UChicago/Machine Learning/wikiartImagesSplit/val/3\")\n",
    "os.remove(\"/Users/aayush/Library/Mobile Documents/com~apple~CloudDocs/UChicago/Machine Learning/wikiartImagesSplit/val/5\")\n",
    "os.remove(\"/Users/aayush/Library/Mobile Documents/com~apple~CloudDocs/UChicago/Machine Learning/wikiartImagesSplit/val/8\")\n",
    "os.remove(\"/Users/aayush/Library/Mobile Documents/com~apple~CloudDocs/UChicago/Machine Learning/wikiartImagesSplit/val/9\")\n",
    "os.remove(\"/Users/aayush/Library/Mobile Documents/com~apple~CloudDocs/UChicago/Machine Learning/wikiartImagesSplit/val/0\")\n",
    "os.remove(\"/Users/aayush/Library/Mobile Documents/com~apple~CloudDocs/UChicago/Machine Learning/wikiartImagesSplit/test/1\")\n",
    "os.remove(\"/Users/aayush/Library/Mobile Documents/com~apple~CloudDocs/UChicago/Machine Learning/wikiartImagesSplit/test/3\")\n",
    "os.remove(\"/Users/aayush/Library/Mobile Documents/com~apple~CloudDocs/UChicago/Machine Learning/wikiartImagesSplit/test/5\")\n",
    "os.remove(\"/Users/aayush/Library/Mobile Documents/com~apple~CloudDocs/UChicago/Machine Learning/wikiartImagesSplit/test/8\")\n",
    "os.remove(\"/Users/aayush/Library/Mobile Documents/com~apple~CloudDocs/UChicago/Machine Learning/wikiartImagesSplit/test/9\")"
   ]
  },
  {
   "cell_type": "code",
   "execution_count": 94,
   "metadata": {},
   "outputs": [],
   "source": [
    "labs = pd.DataFrame(columns = ['genre','path'])"
   ]
  },
  {
   "cell_type": "code",
   "execution_count": 95,
   "metadata": {},
   "outputs": [
    {
     "name": "stderr",
     "output_type": "stream",
     "text": [
      "100%|██████████| 72/72 [00:37<00:00,  1.91it/s]\n"
     ]
    }
   ],
   "source": [
    "imNum = 0\n",
    "for path in tqdm(paths):\n",
    "    df = pd.read_parquet('/Users/aayush/Downloads/wikiart/'+path)\n",
    "    df['path'] = df.apply(lambda x: str(imNum)+'-'+str(x.name)+'.png',axis = 1)\n",
    "    labs = pd.concat([labs,df[['genre','path']]])\n",
    "    imNum = imNum+1\n",
    "    del df"
   ]
  },
  {
   "cell_type": "code",
   "execution_count": 98,
   "metadata": {},
   "outputs": [],
   "source": [
    "labs.to_csv('labelsWikiArt.csv')"
   ]
  },
  {
   "cell_type": "code",
   "execution_count": 100,
   "metadata": {},
   "outputs": [],
   "source": [
    "labs = pd.read_csv('labelsWikiArt.csv')"
   ]
  },
  {
   "cell_type": "code",
   "execution_count": 202,
   "metadata": {},
   "outputs": [
    {
     "name": "stdout",
     "output_type": "stream",
     "text": [
      "Found 42921 files belonging to 5 classes.\n"
     ]
    }
   ],
   "source": [
    "train = image_dataset_from_directory('/Users/aayush/Library/Mobile Documents/com~apple~CloudDocs/UChicago/Machine Learning/wikiArtImagesSplit/train',labels='inferred',image_size=(128,128))"
   ]
  },
  {
   "cell_type": "code",
   "execution_count": 203,
   "metadata": {},
   "outputs": [
    {
     "name": "stdout",
     "output_type": "stream",
     "text": [
      "Found 6137 files belonging to 5 classes.\n"
     ]
    }
   ],
   "source": [
    "test = image_dataset_from_directory('/Users/aayush/Library/Mobile Documents/com~apple~CloudDocs/UChicago/Machine Learning/wikiArtImagesSplit/test',image_size=(128,128))"
   ]
  },
  {
   "cell_type": "code",
   "execution_count": 204,
   "metadata": {},
   "outputs": [
    {
     "name": "stdout",
     "output_type": "stream",
     "text": [
      "Found 12261 files belonging to 5 classes.\n"
     ]
    }
   ],
   "source": [
    "val = image_dataset_from_directory('/Users/aayush/Library/Mobile Documents/com~apple~CloudDocs/UChicago/Machine Learning/wikiArtImagesSplit/val',image_size=(128,128))"
   ]
  },
  {
   "cell_type": "code",
   "execution_count": 201,
   "metadata": {},
   "outputs": [
    {
     "name": "stderr",
     "output_type": "stream",
     "text": [
      "2024-05-19 15:49:40.584506: W tensorflow/core/framework/local_rendezvous.cc:404] Local rendezvous is aborting with status: OUT_OF_RANGE: End of sequence\n"
     ]
    },
    {
     "data": {
      "text/plain": [
       "(<tf.Tensor: shape=(32, 256, 256, 3), dtype=float32, numpy=\n",
       " array([[[[190.    , 119.    ,  55.    ],\n",
       "          [187.75  , 117.    ,  54.    ],\n",
       "          [183.25  , 113.    ,  52.    ],\n",
       "          ...,\n",
       "          [213.    , 138.    ,  40.75  ],\n",
       "          [215.    , 142.    ,  44.25  ],\n",
       "          [216.    , 144.    ,  46.    ]],\n",
       " \n",
       "         [[191.    , 118.25  ,  54.25  ],\n",
       "          [189.1875, 116.6875,  53.5625],\n",
       "          [185.5625, 113.5625,  52.1875],\n",
       "          ...,\n",
       "          [211.5   , 136.875 ,  41.625 ],\n",
       "          [213.    , 140.125 ,  44.875 ],\n",
       "          [213.75  , 141.75  ,  46.5   ]],\n",
       " \n",
       "         [[193.    , 116.75  ,  52.75  ],\n",
       "          [192.0625, 116.0625,  52.6875],\n",
       "          [190.1875, 114.6875,  52.5625],\n",
       "          ...,\n",
       "          [208.5   , 134.625 ,  43.375 ],\n",
       "          [209.    , 136.375 ,  46.125 ],\n",
       "          [209.25  , 137.25  ,  47.5   ]],\n",
       " \n",
       "         ...,\n",
       " \n",
       "         [[157.    , 122.75  ,  89.75  ],\n",
       "          [153.375 , 121.    ,  89.75  ],\n",
       "          [146.125 , 117.5   ,  89.75  ],\n",
       "          ...,\n",
       "          [ 94.375 ,  97.4375,  88.75  ],\n",
       "          [ 91.625 ,  95.3125,  86.75  ],\n",
       "          [ 90.25  ,  94.25  ,  85.75  ]],\n",
       " \n",
       "         [[153.    , 118.25  ,  87.25  ],\n",
       "          [152.625 , 118.    ,  87.25  ],\n",
       "          [151.875 , 117.5   ,  87.25  ],\n",
       "          ...,\n",
       "          [ 88.625 ,  94.3125,  86.25  ],\n",
       "          [ 87.375 ,  91.9375,  84.25  ],\n",
       "          [ 86.75  ,  90.75  ,  83.25  ]],\n",
       " \n",
       "         [[151.    , 116.    ,  86.    ],\n",
       "          [152.25  , 116.5   ,  86.    ],\n",
       "          [154.75  , 117.5   ,  86.    ],\n",
       "          ...,\n",
       "          [ 85.75  ,  92.75  ,  85.    ],\n",
       "          [ 85.25  ,  90.25  ,  83.    ],\n",
       "          [ 85.    ,  89.    ,  82.    ]]],\n",
       " \n",
       " \n",
       "        [[[206.    , 202.    , 191.    ],\n",
       "          [205.5   , 201.5   , 190.5   ],\n",
       "          [204.5   , 200.5   , 189.5   ],\n",
       "          ...,\n",
       "          [198.    , 188.    , 178.    ],\n",
       "          [198.    , 188.    , 178.    ],\n",
       "          [198.    , 188.    , 178.    ]],\n",
       " \n",
       "         [[206.    , 202.    , 192.5   ],\n",
       "          [205.5   , 201.3125, 191.8125],\n",
       "          [204.5   , 199.9375, 190.4375],\n",
       "          ...,\n",
       "          [197.6875, 187.5   , 178.6875],\n",
       "          [197.5625, 187.5   , 178.5625],\n",
       "          [197.5   , 187.5   , 178.5   ]],\n",
       " \n",
       "         [[206.    , 202.    , 195.5   ],\n",
       "          [205.5   , 200.9375, 194.4375],\n",
       "          [204.5   , 198.8125, 192.3125],\n",
       "          ...,\n",
       "          [197.0625, 186.5   , 180.0625],\n",
       "          [196.6875, 186.5   , 179.6875],\n",
       "          [196.5   , 186.5   , 179.5   ]],\n",
       " \n",
       "         ...,\n",
       " \n",
       "         [[224.    , 216.    , 206.5   ],\n",
       "          [223.75  , 215.75  , 206.25  ],\n",
       "          [223.25  , 215.25  , 205.75  ],\n",
       "          ...,\n",
       "          [217.75  , 208.9375, 203.1875],\n",
       "          [217.25  , 208.8125, 203.0625],\n",
       "          [217.    , 208.75  , 203.    ]],\n",
       " \n",
       "         [[224.    , 218.    , 207.5   ],\n",
       "          [223.75  , 217.75  , 207.25  ],\n",
       "          [223.25  , 217.25  , 206.75  ],\n",
       "          ...,\n",
       "          [219.75  , 210.8125, 205.5625],\n",
       "          [219.25  , 210.4375, 205.1875],\n",
       "          [219.    , 210.25  , 205.    ]],\n",
       " \n",
       "         [[224.    , 219.    , 208.    ],\n",
       "          [223.75  , 218.75  , 207.75  ],\n",
       "          [223.25  , 218.25  , 207.25  ],\n",
       "          ...,\n",
       "          [220.75  , 211.75  , 206.75  ],\n",
       "          [220.25  , 211.25  , 206.25  ],\n",
       "          [220.    , 211.    , 206.    ]]],\n",
       " \n",
       " \n",
       "        [[[ 76.    ,  86.    ,  66.    ],\n",
       "          [ 76.5   ,  86.5   ,  67.    ],\n",
       "          [ 77.5   ,  87.5   ,  69.    ],\n",
       "          ...,\n",
       "          [ 79.75  ,  96.75  ,  77.75  ],\n",
       "          [ 79.25  ,  96.25  ,  77.25  ],\n",
       "          [ 79.    ,  96.    ,  77.    ]],\n",
       " \n",
       "         [[ 77.25  ,  85.5   ,  65.5   ],\n",
       "          [ 77.375 ,  85.8125,  66.375 ],\n",
       "          [ 77.625 ,  86.4375,  68.125 ],\n",
       "          ...,\n",
       "          [ 78.    ,  95.0625,  75.5   ],\n",
       "          [ 78.5   ,  95.1875,  75.    ],\n",
       "          [ 78.75  ,  95.25  ,  74.75  ]],\n",
       " \n",
       "         [[ 79.75  ,  84.5   ,  64.5   ],\n",
       "          [ 79.125 ,  84.4375,  65.125 ],\n",
       "          [ 77.875 ,  84.3125,  66.375 ],\n",
       "          ...,\n",
       "          [ 74.5   ,  91.6875,  71.    ],\n",
       "          [ 77.    ,  93.0625,  70.5   ],\n",
       "          [ 78.25  ,  93.75  ,  70.25  ]],\n",
       " \n",
       "         ...,\n",
       " \n",
       "         [[ 91.5   ,  71.    ,  49.25  ],\n",
       "          [ 89.0625,  70.5   ,  48.6875],\n",
       "          [ 84.1875,  69.5   ,  47.5625],\n",
       "          ...,\n",
       "          [ 98.375 ,  78.125 ,  50.3125],\n",
       "          [104.625 ,  80.375 ,  52.9375],\n",
       "          [107.75  ,  81.5   ,  54.25  ]],\n",
       " \n",
       "         [[ 88.5   ,  71.    ,  51.75  ],\n",
       "          [ 87.1875,  71.    ,  51.0625],\n",
       "          [ 84.5625,  71.    ,  49.6875],\n",
       "          ...,\n",
       "          [ 99.125 ,  77.875 ,  49.9375],\n",
       "          [105.875 ,  79.625 ,  51.8125],\n",
       "          [109.25  ,  80.5   ,  52.75  ]],\n",
       " \n",
       "         [[ 87.    ,  71.    ,  53.    ],\n",
       "          [ 86.25  ,  71.25  ,  52.25  ],\n",
       "          [ 84.75  ,  71.75  ,  50.75  ],\n",
       "          ...,\n",
       "          [ 99.5   ,  77.75  ,  49.75  ],\n",
       "          [106.5   ,  79.25  ,  51.25  ],\n",
       "          [110.    ,  80.    ,  52.    ]]],\n",
       " \n",
       " \n",
       "        ...,\n",
       " \n",
       " \n",
       "        [[[ 51.    ,  39.    ,  39.    ],\n",
       "          [ 50.    ,  38.    ,  38.    ],\n",
       "          [ 48.    ,  36.    ,  36.    ],\n",
       "          ...,\n",
       "          [ 43.25  ,  33.25  ,  33.5   ],\n",
       "          [ 43.75  ,  33.75  ,  34.5   ],\n",
       "          [ 44.    ,  34.    ,  35.    ]],\n",
       " \n",
       "         [[ 50.    ,  38.    ,  38.    ],\n",
       "          [ 49.1875,  37.1875,  37.1875],\n",
       "          [ 47.5625,  35.5625,  35.5625],\n",
       "          ...,\n",
       "          [ 43.375 ,  32.625 ,  32.5625],\n",
       "          [ 44.625 ,  33.875 ,  34.1875],\n",
       "          [ 45.25  ,  34.5   ,  35.    ]],\n",
       " \n",
       "         [[ 48.    ,  36.    ,  36.    ],\n",
       "          [ 47.5625,  35.5625,  35.5625],\n",
       "          [ 46.6875,  34.6875,  34.6875],\n",
       "          ...,\n",
       "          [ 43.625 ,  31.375 ,  30.6875],\n",
       "          [ 46.375 ,  34.125 ,  33.5625],\n",
       "          [ 47.75  ,  35.5   ,  35.    ]],\n",
       " \n",
       "         ...,\n",
       " \n",
       "         [[ 35.25  ,  24.25  ,  27.75  ],\n",
       "          [ 33.75  ,  23.1875,  26.5   ],\n",
       "          [ 30.75  ,  21.0625,  24.    ],\n",
       "          ...,\n",
       "          [ 29.6875,  24.5   ,  28.1875],\n",
       "          [ 30.0625,  25.    ,  28.5625],\n",
       "          [ 30.25  ,  25.25  ,  28.75  ]],\n",
       " \n",
       "         [[ 35.75  ,  24.75  ,  27.25  ],\n",
       "          [ 34.75  ,  24.0625,  26.5   ],\n",
       "          [ 32.75  ,  22.6875,  25.    ],\n",
       "          ...,\n",
       "          [ 32.5625,  27.    ,  30.0625],\n",
       "          [ 32.6875,  27.5   ,  30.1875],\n",
       "          [ 32.75  ,  27.75  ,  30.25  ]],\n",
       " \n",
       "         [[ 36.    ,  25.    ,  27.    ],\n",
       "          [ 35.25  ,  24.5   ,  26.5   ],\n",
       "          [ 33.75  ,  23.5   ,  25.5   ],\n",
       "          ...,\n",
       "          [ 34.    ,  28.25  ,  31.    ],\n",
       "          [ 34.    ,  28.75  ,  31.    ],\n",
       "          [ 34.    ,  29.    ,  31.    ]]],\n",
       " \n",
       " \n",
       "        [[[242.    , 215.    , 173.    ],\n",
       "          [242.    , 215.    , 172.75  ],\n",
       "          [242.    , 215.    , 172.25  ],\n",
       "          ...,\n",
       "          [237.5   , 197.75  , 138.75  ],\n",
       "          [236.5   , 197.25  , 138.25  ],\n",
       "          [236.    , 197.    , 138.    ]],\n",
       " \n",
       "         [[241.75  , 214.    , 172.25  ],\n",
       "          [241.8125, 214.0625, 172.125 ],\n",
       "          [241.9375, 214.1875, 171.875 ],\n",
       "          ...,\n",
       "          [237.5   , 197.    , 139.    ],\n",
       "          [237.    , 197.    , 139.    ],\n",
       "          [236.75  , 197.    , 139.    ]],\n",
       " \n",
       "         [[241.25  , 212.    , 170.75  ],\n",
       "          [241.4375, 212.1875, 170.875 ],\n",
       "          [241.8125, 212.5625, 171.125 ],\n",
       "          ...,\n",
       "          [237.5   , 195.5   , 139.5   ],\n",
       "          [238.    , 196.5   , 140.5   ],\n",
       "          [238.25  , 197.    , 141.    ]],\n",
       " \n",
       "         ...,\n",
       " \n",
       "         [[233.75  , 196.5   , 144.5   ],\n",
       "          [234.5   , 196.875 , 144.8125],\n",
       "          [236.    , 197.625 , 145.4375],\n",
       "          ...,\n",
       "          [228.1875, 195.375 , 151.6875],\n",
       "          [230.0625, 197.625 , 153.5625],\n",
       "          [231.    , 198.75  , 154.5   ]],\n",
       " \n",
       "         [[233.25  , 195.5   , 145.5   ],\n",
       "          [234.    , 196.125 , 145.9375],\n",
       "          [235.5   , 197.375 , 146.8125],\n",
       "          ...,\n",
       "          [228.5625, 197.625 , 155.0625],\n",
       "          [230.1875, 199.375 , 156.6875],\n",
       "          [231.    , 200.25  , 157.5   ]],\n",
       " \n",
       "         [[233.    , 195.    , 146.    ],\n",
       "          [233.75  , 195.75  , 146.5   ],\n",
       "          [235.25  , 197.25  , 147.5   ],\n",
       "          ...,\n",
       "          [228.75  , 198.75  , 156.75  ],\n",
       "          [230.25  , 200.25  , 158.25  ],\n",
       "          [231.    , 201.    , 159.    ]]],\n",
       " \n",
       " \n",
       "        [[[ 62.    ,  42.    ,  40.    ],\n",
       "          [ 57.5   ,  38.    ,  36.    ],\n",
       "          [ 48.5   ,  30.    ,  28.    ],\n",
       "          ...,\n",
       "          [ 71.25  ,  53.25  ,  36.25  ],\n",
       "          [ 61.75  ,  45.75  ,  30.75  ],\n",
       "          [ 57.    ,  42.    ,  28.    ]],\n",
       " \n",
       "         [[ 64.    ,  44.25  ,  41.    ],\n",
       "          [ 58.8125,  39.5625,  36.8125],\n",
       "          [ 48.4375,  30.1875,  28.4375],\n",
       "          ...,\n",
       "          [ 71.125 ,  52.875 ,  35.9375],\n",
       "          [ 61.875 ,  45.125 ,  30.3125],\n",
       "          [ 57.25  ,  41.25  ,  27.5   ]],\n",
       " \n",
       "         [[ 68.    ,  48.75  ,  43.    ],\n",
       "          [ 61.4375,  42.6875,  38.4375],\n",
       "          [ 48.3125,  30.5625,  29.3125],\n",
       "          ...,\n",
       "          [ 70.875 ,  52.125 ,  35.3125],\n",
       "          [ 62.125 ,  43.875 ,  29.4375],\n",
       "          [ 57.75  ,  39.75  ,  26.5   ]],\n",
       " \n",
       "         ...,\n",
       " \n",
       "         [[112.    ,  61.75  ,  40.25  ],\n",
       "          [111.6875,  61.6875,  40.125 ],\n",
       "          [111.0625,  61.5625,  39.875 ],\n",
       "          ...,\n",
       "          [ 91.375 ,  60.9375,  43.375 ],\n",
       "          [ 85.125 ,  56.8125,  41.125 ],\n",
       "          [ 82.    ,  54.75  ,  40.    ]],\n",
       " \n",
       "         [[102.    ,  57.25  ,  38.75  ],\n",
       "          [103.0625,  57.5625,  38.875 ],\n",
       "          [105.1875,  58.1875,  39.125 ],\n",
       "          ...,\n",
       "          [100.125 ,  67.3125,  47.625 ],\n",
       "          [101.375 ,  67.9375,  47.875 ],\n",
       "          [102.    ,  68.25  ,  48.    ]],\n",
       " \n",
       "         [[ 97.    ,  55.    ,  38.    ],\n",
       "          [ 98.75  ,  55.5   ,  38.25  ],\n",
       "          [102.25  ,  56.5   ,  38.75  ],\n",
       "          ...,\n",
       "          [104.5   ,  70.5   ,  49.75  ],\n",
       "          [109.5   ,  73.5   ,  51.25  ],\n",
       "          [112.    ,  75.    ,  52.    ]]]], dtype=float32)>,\n",
       " <tf.Tensor: shape=(32,), dtype=int32, numpy=\n",
       " array([1, 1, 1, 2, 3, 3, 0, 1, 1, 2, 2, 3, 1, 2, 0, 4, 0, 2, 4, 4, 2, 2,\n",
       "        3, 2, 2, 2, 1, 2, 1, 3, 1, 1], dtype=int32)>)"
      ]
     },
     "execution_count": 201,
     "metadata": {},
     "output_type": "execute_result"
    }
   ],
   "source": [
    "list(train.take(1))[0]"
   ]
  },
  {
   "cell_type": "code",
   "execution_count": 351,
   "metadata": {},
   "outputs": [
    {
     "data": {
      "text/html": [
       "<pre style=\"white-space:pre;overflow-x:auto;line-height:normal;font-family:Menlo,'DejaVu Sans Mono',consolas,'Courier New',monospace\"><span style=\"font-weight: bold\">Model: \"cnn\"</span>\n",
       "</pre>\n"
      ],
      "text/plain": [
       "\u001b[1mModel: \"cnn\"\u001b[0m\n"
      ]
     },
     "metadata": {},
     "output_type": "display_data"
    },
    {
     "data": {
      "text/html": [
       "<pre style=\"white-space:pre;overflow-x:auto;line-height:normal;font-family:Menlo,'DejaVu Sans Mono',consolas,'Courier New',monospace\">┏━━━━━━━━━━━━━━━━━━━━━━━━━━━━━━━━━┳━━━━━━━━━━━━━━━━━━━━━━━━┳━━━━━━━━━━━━━━━┓\n",
       "┃<span style=\"font-weight: bold\"> Layer (type)                    </span>┃<span style=\"font-weight: bold\"> Output Shape           </span>┃<span style=\"font-weight: bold\">       Param # </span>┃\n",
       "┡━━━━━━━━━━━━━━━━━━━━━━━━━━━━━━━━━╇━━━━━━━━━━━━━━━━━━━━━━━━╇━━━━━━━━━━━━━━━┩\n",
       "│ rescaling_61 (<span style=\"color: #0087ff; text-decoration-color: #0087ff\">Rescaling</span>)        │ (<span style=\"color: #00d7ff; text-decoration-color: #00d7ff\">None</span>, <span style=\"color: #00af00; text-decoration-color: #00af00\">128</span>, <span style=\"color: #00af00; text-decoration-color: #00af00\">128</span>, <span style=\"color: #00af00; text-decoration-color: #00af00\">3</span>)    │             <span style=\"color: #00af00; text-decoration-color: #00af00\">0</span> │\n",
       "├─────────────────────────────────┼────────────────────────┼───────────────┤\n",
       "│ conv2d_404 (<span style=\"color: #0087ff; text-decoration-color: #0087ff\">Conv2D</span>)             │ (<span style=\"color: #00d7ff; text-decoration-color: #00d7ff\">None</span>, <span style=\"color: #00af00; text-decoration-color: #00af00\">128</span>, <span style=\"color: #00af00; text-decoration-color: #00af00\">128</span>, <span style=\"color: #00af00; text-decoration-color: #00af00\">16</span>)   │           <span style=\"color: #00af00; text-decoration-color: #00af00\">448</span> │\n",
       "├─────────────────────────────────┼────────────────────────┼───────────────┤\n",
       "│ batch_normalization_405         │ (<span style=\"color: #00d7ff; text-decoration-color: #00d7ff\">None</span>, <span style=\"color: #00af00; text-decoration-color: #00af00\">128</span>, <span style=\"color: #00af00; text-decoration-color: #00af00\">128</span>, <span style=\"color: #00af00; text-decoration-color: #00af00\">16</span>)   │            <span style=\"color: #00af00; text-decoration-color: #00af00\">64</span> │\n",
       "│ (<span style=\"color: #0087ff; text-decoration-color: #0087ff\">BatchNormalization</span>)            │                        │               │\n",
       "├─────────────────────────────────┼────────────────────────┼───────────────┤\n",
       "│ conv2d_405 (<span style=\"color: #0087ff; text-decoration-color: #0087ff\">Conv2D</span>)             │ (<span style=\"color: #00d7ff; text-decoration-color: #00d7ff\">None</span>, <span style=\"color: #00af00; text-decoration-color: #00af00\">128</span>, <span style=\"color: #00af00; text-decoration-color: #00af00\">128</span>, <span style=\"color: #00af00; text-decoration-color: #00af00\">16</span>)   │         <span style=\"color: #00af00; text-decoration-color: #00af00\">2,320</span> │\n",
       "├─────────────────────────────────┼────────────────────────┼───────────────┤\n",
       "│ batch_normalization_406         │ (<span style=\"color: #00d7ff; text-decoration-color: #00d7ff\">None</span>, <span style=\"color: #00af00; text-decoration-color: #00af00\">128</span>, <span style=\"color: #00af00; text-decoration-color: #00af00\">128</span>, <span style=\"color: #00af00; text-decoration-color: #00af00\">16</span>)   │            <span style=\"color: #00af00; text-decoration-color: #00af00\">64</span> │\n",
       "│ (<span style=\"color: #0087ff; text-decoration-color: #0087ff\">BatchNormalization</span>)            │                        │               │\n",
       "├─────────────────────────────────┼────────────────────────┼───────────────┤\n",
       "│ average_pooling2d_41            │ (<span style=\"color: #00d7ff; text-decoration-color: #00d7ff\">None</span>, <span style=\"color: #00af00; text-decoration-color: #00af00\">64</span>, <span style=\"color: #00af00; text-decoration-color: #00af00\">64</span>, <span style=\"color: #00af00; text-decoration-color: #00af00\">16</span>)     │             <span style=\"color: #00af00; text-decoration-color: #00af00\">0</span> │\n",
       "│ (<span style=\"color: #0087ff; text-decoration-color: #0087ff\">AveragePooling2D</span>)              │                        │               │\n",
       "├─────────────────────────────────┼────────────────────────┼───────────────┤\n",
       "│ dropout_136 (<span style=\"color: #0087ff; text-decoration-color: #0087ff\">Dropout</span>)           │ (<span style=\"color: #00d7ff; text-decoration-color: #00d7ff\">None</span>, <span style=\"color: #00af00; text-decoration-color: #00af00\">64</span>, <span style=\"color: #00af00; text-decoration-color: #00af00\">64</span>, <span style=\"color: #00af00; text-decoration-color: #00af00\">16</span>)     │             <span style=\"color: #00af00; text-decoration-color: #00af00\">0</span> │\n",
       "├─────────────────────────────────┼────────────────────────┼───────────────┤\n",
       "│ conv2d_406 (<span style=\"color: #0087ff; text-decoration-color: #0087ff\">Conv2D</span>)             │ (<span style=\"color: #00d7ff; text-decoration-color: #00d7ff\">None</span>, <span style=\"color: #00af00; text-decoration-color: #00af00\">64</span>, <span style=\"color: #00af00; text-decoration-color: #00af00\">64</span>, <span style=\"color: #00af00; text-decoration-color: #00af00\">32</span>)     │         <span style=\"color: #00af00; text-decoration-color: #00af00\">4,640</span> │\n",
       "├─────────────────────────────────┼────────────────────────┼───────────────┤\n",
       "│ batch_normalization_407         │ (<span style=\"color: #00d7ff; text-decoration-color: #00d7ff\">None</span>, <span style=\"color: #00af00; text-decoration-color: #00af00\">64</span>, <span style=\"color: #00af00; text-decoration-color: #00af00\">64</span>, <span style=\"color: #00af00; text-decoration-color: #00af00\">32</span>)     │           <span style=\"color: #00af00; text-decoration-color: #00af00\">128</span> │\n",
       "│ (<span style=\"color: #0087ff; text-decoration-color: #0087ff\">BatchNormalization</span>)            │                        │               │\n",
       "├─────────────────────────────────┼────────────────────────┼───────────────┤\n",
       "│ conv2d_407 (<span style=\"color: #0087ff; text-decoration-color: #0087ff\">Conv2D</span>)             │ (<span style=\"color: #00d7ff; text-decoration-color: #00d7ff\">None</span>, <span style=\"color: #00af00; text-decoration-color: #00af00\">64</span>, <span style=\"color: #00af00; text-decoration-color: #00af00\">64</span>, <span style=\"color: #00af00; text-decoration-color: #00af00\">32</span>)     │         <span style=\"color: #00af00; text-decoration-color: #00af00\">9,248</span> │\n",
       "├─────────────────────────────────┼────────────────────────┼───────────────┤\n",
       "│ batch_normalization_408         │ (<span style=\"color: #00d7ff; text-decoration-color: #00d7ff\">None</span>, <span style=\"color: #00af00; text-decoration-color: #00af00\">64</span>, <span style=\"color: #00af00; text-decoration-color: #00af00\">64</span>, <span style=\"color: #00af00; text-decoration-color: #00af00\">32</span>)     │           <span style=\"color: #00af00; text-decoration-color: #00af00\">128</span> │\n",
       "│ (<span style=\"color: #0087ff; text-decoration-color: #0087ff\">BatchNormalization</span>)            │                        │               │\n",
       "├─────────────────────────────────┼────────────────────────┼───────────────┤\n",
       "│ average_pooling2d_42            │ (<span style=\"color: #00d7ff; text-decoration-color: #00d7ff\">None</span>, <span style=\"color: #00af00; text-decoration-color: #00af00\">32</span>, <span style=\"color: #00af00; text-decoration-color: #00af00\">32</span>, <span style=\"color: #00af00; text-decoration-color: #00af00\">32</span>)     │             <span style=\"color: #00af00; text-decoration-color: #00af00\">0</span> │\n",
       "│ (<span style=\"color: #0087ff; text-decoration-color: #0087ff\">AveragePooling2D</span>)              │                        │               │\n",
       "├─────────────────────────────────┼────────────────────────┼───────────────┤\n",
       "│ dropout_137 (<span style=\"color: #0087ff; text-decoration-color: #0087ff\">Dropout</span>)           │ (<span style=\"color: #00d7ff; text-decoration-color: #00d7ff\">None</span>, <span style=\"color: #00af00; text-decoration-color: #00af00\">32</span>, <span style=\"color: #00af00; text-decoration-color: #00af00\">32</span>, <span style=\"color: #00af00; text-decoration-color: #00af00\">32</span>)     │             <span style=\"color: #00af00; text-decoration-color: #00af00\">0</span> │\n",
       "├─────────────────────────────────┼────────────────────────┼───────────────┤\n",
       "│ conv2d_408 (<span style=\"color: #0087ff; text-decoration-color: #0087ff\">Conv2D</span>)             │ (<span style=\"color: #00d7ff; text-decoration-color: #00d7ff\">None</span>, <span style=\"color: #00af00; text-decoration-color: #00af00\">32</span>, <span style=\"color: #00af00; text-decoration-color: #00af00\">32</span>, <span style=\"color: #00af00; text-decoration-color: #00af00\">16</span>)     │         <span style=\"color: #00af00; text-decoration-color: #00af00\">4,624</span> │\n",
       "├─────────────────────────────────┼────────────────────────┼───────────────┤\n",
       "│ batch_normalization_409         │ (<span style=\"color: #00d7ff; text-decoration-color: #00d7ff\">None</span>, <span style=\"color: #00af00; text-decoration-color: #00af00\">32</span>, <span style=\"color: #00af00; text-decoration-color: #00af00\">32</span>, <span style=\"color: #00af00; text-decoration-color: #00af00\">16</span>)     │            <span style=\"color: #00af00; text-decoration-color: #00af00\">64</span> │\n",
       "│ (<span style=\"color: #0087ff; text-decoration-color: #0087ff\">BatchNormalization</span>)            │                        │               │\n",
       "├─────────────────────────────────┼────────────────────────┼───────────────┤\n",
       "│ conv2d_409 (<span style=\"color: #0087ff; text-decoration-color: #0087ff\">Conv2D</span>)             │ (<span style=\"color: #00d7ff; text-decoration-color: #00d7ff\">None</span>, <span style=\"color: #00af00; text-decoration-color: #00af00\">32</span>, <span style=\"color: #00af00; text-decoration-color: #00af00\">32</span>, <span style=\"color: #00af00; text-decoration-color: #00af00\">16</span>)     │         <span style=\"color: #00af00; text-decoration-color: #00af00\">2,320</span> │\n",
       "├─────────────────────────────────┼────────────────────────┼───────────────┤\n",
       "│ batch_normalization_410         │ (<span style=\"color: #00d7ff; text-decoration-color: #00d7ff\">None</span>, <span style=\"color: #00af00; text-decoration-color: #00af00\">32</span>, <span style=\"color: #00af00; text-decoration-color: #00af00\">32</span>, <span style=\"color: #00af00; text-decoration-color: #00af00\">16</span>)     │            <span style=\"color: #00af00; text-decoration-color: #00af00\">64</span> │\n",
       "│ (<span style=\"color: #0087ff; text-decoration-color: #0087ff\">BatchNormalization</span>)            │                        │               │\n",
       "├─────────────────────────────────┼────────────────────────┼───────────────┤\n",
       "│ average_pooling2d_43            │ (<span style=\"color: #00d7ff; text-decoration-color: #00d7ff\">None</span>, <span style=\"color: #00af00; text-decoration-color: #00af00\">16</span>, <span style=\"color: #00af00; text-decoration-color: #00af00\">16</span>, <span style=\"color: #00af00; text-decoration-color: #00af00\">16</span>)     │             <span style=\"color: #00af00; text-decoration-color: #00af00\">0</span> │\n",
       "│ (<span style=\"color: #0087ff; text-decoration-color: #0087ff\">AveragePooling2D</span>)              │                        │               │\n",
       "├─────────────────────────────────┼────────────────────────┼───────────────┤\n",
       "│ dropout_138 (<span style=\"color: #0087ff; text-decoration-color: #0087ff\">Dropout</span>)           │ (<span style=\"color: #00d7ff; text-decoration-color: #00d7ff\">None</span>, <span style=\"color: #00af00; text-decoration-color: #00af00\">16</span>, <span style=\"color: #00af00; text-decoration-color: #00af00\">16</span>, <span style=\"color: #00af00; text-decoration-color: #00af00\">16</span>)     │             <span style=\"color: #00af00; text-decoration-color: #00af00\">0</span> │\n",
       "├─────────────────────────────────┼────────────────────────┼───────────────┤\n",
       "│ flatten_54 (<span style=\"color: #0087ff; text-decoration-color: #0087ff\">Flatten</span>)            │ (<span style=\"color: #00d7ff; text-decoration-color: #00d7ff\">None</span>, <span style=\"color: #00af00; text-decoration-color: #00af00\">4096</span>)           │             <span style=\"color: #00af00; text-decoration-color: #00af00\">0</span> │\n",
       "├─────────────────────────────────┼────────────────────────┼───────────────┤\n",
       "│ dense_68 (<span style=\"color: #0087ff; text-decoration-color: #0087ff\">Dense</span>)                │ (<span style=\"color: #00d7ff; text-decoration-color: #00d7ff\">None</span>, <span style=\"color: #00af00; text-decoration-color: #00af00\">5</span>)              │        <span style=\"color: #00af00; text-decoration-color: #00af00\">20,485</span> │\n",
       "└─────────────────────────────────┴────────────────────────┴───────────────┘\n",
       "</pre>\n"
      ],
      "text/plain": [
       "┏━━━━━━━━━━━━━━━━━━━━━━━━━━━━━━━━━┳━━━━━━━━━━━━━━━━━━━━━━━━┳━━━━━━━━━━━━━━━┓\n",
       "┃\u001b[1m \u001b[0m\u001b[1mLayer (type)                   \u001b[0m\u001b[1m \u001b[0m┃\u001b[1m \u001b[0m\u001b[1mOutput Shape          \u001b[0m\u001b[1m \u001b[0m┃\u001b[1m \u001b[0m\u001b[1m      Param #\u001b[0m\u001b[1m \u001b[0m┃\n",
       "┡━━━━━━━━━━━━━━━━━━━━━━━━━━━━━━━━━╇━━━━━━━━━━━━━━━━━━━━━━━━╇━━━━━━━━━━━━━━━┩\n",
       "│ rescaling_61 (\u001b[38;5;33mRescaling\u001b[0m)        │ (\u001b[38;5;45mNone\u001b[0m, \u001b[38;5;34m128\u001b[0m, \u001b[38;5;34m128\u001b[0m, \u001b[38;5;34m3\u001b[0m)    │             \u001b[38;5;34m0\u001b[0m │\n",
       "├─────────────────────────────────┼────────────────────────┼───────────────┤\n",
       "│ conv2d_404 (\u001b[38;5;33mConv2D\u001b[0m)             │ (\u001b[38;5;45mNone\u001b[0m, \u001b[38;5;34m128\u001b[0m, \u001b[38;5;34m128\u001b[0m, \u001b[38;5;34m16\u001b[0m)   │           \u001b[38;5;34m448\u001b[0m │\n",
       "├─────────────────────────────────┼────────────────────────┼───────────────┤\n",
       "│ batch_normalization_405         │ (\u001b[38;5;45mNone\u001b[0m, \u001b[38;5;34m128\u001b[0m, \u001b[38;5;34m128\u001b[0m, \u001b[38;5;34m16\u001b[0m)   │            \u001b[38;5;34m64\u001b[0m │\n",
       "│ (\u001b[38;5;33mBatchNormalization\u001b[0m)            │                        │               │\n",
       "├─────────────────────────────────┼────────────────────────┼───────────────┤\n",
       "│ conv2d_405 (\u001b[38;5;33mConv2D\u001b[0m)             │ (\u001b[38;5;45mNone\u001b[0m, \u001b[38;5;34m128\u001b[0m, \u001b[38;5;34m128\u001b[0m, \u001b[38;5;34m16\u001b[0m)   │         \u001b[38;5;34m2,320\u001b[0m │\n",
       "├─────────────────────────────────┼────────────────────────┼───────────────┤\n",
       "│ batch_normalization_406         │ (\u001b[38;5;45mNone\u001b[0m, \u001b[38;5;34m128\u001b[0m, \u001b[38;5;34m128\u001b[0m, \u001b[38;5;34m16\u001b[0m)   │            \u001b[38;5;34m64\u001b[0m │\n",
       "│ (\u001b[38;5;33mBatchNormalization\u001b[0m)            │                        │               │\n",
       "├─────────────────────────────────┼────────────────────────┼───────────────┤\n",
       "│ average_pooling2d_41            │ (\u001b[38;5;45mNone\u001b[0m, \u001b[38;5;34m64\u001b[0m, \u001b[38;5;34m64\u001b[0m, \u001b[38;5;34m16\u001b[0m)     │             \u001b[38;5;34m0\u001b[0m │\n",
       "│ (\u001b[38;5;33mAveragePooling2D\u001b[0m)              │                        │               │\n",
       "├─────────────────────────────────┼────────────────────────┼───────────────┤\n",
       "│ dropout_136 (\u001b[38;5;33mDropout\u001b[0m)           │ (\u001b[38;5;45mNone\u001b[0m, \u001b[38;5;34m64\u001b[0m, \u001b[38;5;34m64\u001b[0m, \u001b[38;5;34m16\u001b[0m)     │             \u001b[38;5;34m0\u001b[0m │\n",
       "├─────────────────────────────────┼────────────────────────┼───────────────┤\n",
       "│ conv2d_406 (\u001b[38;5;33mConv2D\u001b[0m)             │ (\u001b[38;5;45mNone\u001b[0m, \u001b[38;5;34m64\u001b[0m, \u001b[38;5;34m64\u001b[0m, \u001b[38;5;34m32\u001b[0m)     │         \u001b[38;5;34m4,640\u001b[0m │\n",
       "├─────────────────────────────────┼────────────────────────┼───────────────┤\n",
       "│ batch_normalization_407         │ (\u001b[38;5;45mNone\u001b[0m, \u001b[38;5;34m64\u001b[0m, \u001b[38;5;34m64\u001b[0m, \u001b[38;5;34m32\u001b[0m)     │           \u001b[38;5;34m128\u001b[0m │\n",
       "│ (\u001b[38;5;33mBatchNormalization\u001b[0m)            │                        │               │\n",
       "├─────────────────────────────────┼────────────────────────┼───────────────┤\n",
       "│ conv2d_407 (\u001b[38;5;33mConv2D\u001b[0m)             │ (\u001b[38;5;45mNone\u001b[0m, \u001b[38;5;34m64\u001b[0m, \u001b[38;5;34m64\u001b[0m, \u001b[38;5;34m32\u001b[0m)     │         \u001b[38;5;34m9,248\u001b[0m │\n",
       "├─────────────────────────────────┼────────────────────────┼───────────────┤\n",
       "│ batch_normalization_408         │ (\u001b[38;5;45mNone\u001b[0m, \u001b[38;5;34m64\u001b[0m, \u001b[38;5;34m64\u001b[0m, \u001b[38;5;34m32\u001b[0m)     │           \u001b[38;5;34m128\u001b[0m │\n",
       "│ (\u001b[38;5;33mBatchNormalization\u001b[0m)            │                        │               │\n",
       "├─────────────────────────────────┼────────────────────────┼───────────────┤\n",
       "│ average_pooling2d_42            │ (\u001b[38;5;45mNone\u001b[0m, \u001b[38;5;34m32\u001b[0m, \u001b[38;5;34m32\u001b[0m, \u001b[38;5;34m32\u001b[0m)     │             \u001b[38;5;34m0\u001b[0m │\n",
       "│ (\u001b[38;5;33mAveragePooling2D\u001b[0m)              │                        │               │\n",
       "├─────────────────────────────────┼────────────────────────┼───────────────┤\n",
       "│ dropout_137 (\u001b[38;5;33mDropout\u001b[0m)           │ (\u001b[38;5;45mNone\u001b[0m, \u001b[38;5;34m32\u001b[0m, \u001b[38;5;34m32\u001b[0m, \u001b[38;5;34m32\u001b[0m)     │             \u001b[38;5;34m0\u001b[0m │\n",
       "├─────────────────────────────────┼────────────────────────┼───────────────┤\n",
       "│ conv2d_408 (\u001b[38;5;33mConv2D\u001b[0m)             │ (\u001b[38;5;45mNone\u001b[0m, \u001b[38;5;34m32\u001b[0m, \u001b[38;5;34m32\u001b[0m, \u001b[38;5;34m16\u001b[0m)     │         \u001b[38;5;34m4,624\u001b[0m │\n",
       "├─────────────────────────────────┼────────────────────────┼───────────────┤\n",
       "│ batch_normalization_409         │ (\u001b[38;5;45mNone\u001b[0m, \u001b[38;5;34m32\u001b[0m, \u001b[38;5;34m32\u001b[0m, \u001b[38;5;34m16\u001b[0m)     │            \u001b[38;5;34m64\u001b[0m │\n",
       "│ (\u001b[38;5;33mBatchNormalization\u001b[0m)            │                        │               │\n",
       "├─────────────────────────────────┼────────────────────────┼───────────────┤\n",
       "│ conv2d_409 (\u001b[38;5;33mConv2D\u001b[0m)             │ (\u001b[38;5;45mNone\u001b[0m, \u001b[38;5;34m32\u001b[0m, \u001b[38;5;34m32\u001b[0m, \u001b[38;5;34m16\u001b[0m)     │         \u001b[38;5;34m2,320\u001b[0m │\n",
       "├─────────────────────────────────┼────────────────────────┼───────────────┤\n",
       "│ batch_normalization_410         │ (\u001b[38;5;45mNone\u001b[0m, \u001b[38;5;34m32\u001b[0m, \u001b[38;5;34m32\u001b[0m, \u001b[38;5;34m16\u001b[0m)     │            \u001b[38;5;34m64\u001b[0m │\n",
       "│ (\u001b[38;5;33mBatchNormalization\u001b[0m)            │                        │               │\n",
       "├─────────────────────────────────┼────────────────────────┼───────────────┤\n",
       "│ average_pooling2d_43            │ (\u001b[38;5;45mNone\u001b[0m, \u001b[38;5;34m16\u001b[0m, \u001b[38;5;34m16\u001b[0m, \u001b[38;5;34m16\u001b[0m)     │             \u001b[38;5;34m0\u001b[0m │\n",
       "│ (\u001b[38;5;33mAveragePooling2D\u001b[0m)              │                        │               │\n",
       "├─────────────────────────────────┼────────────────────────┼───────────────┤\n",
       "│ dropout_138 (\u001b[38;5;33mDropout\u001b[0m)           │ (\u001b[38;5;45mNone\u001b[0m, \u001b[38;5;34m16\u001b[0m, \u001b[38;5;34m16\u001b[0m, \u001b[38;5;34m16\u001b[0m)     │             \u001b[38;5;34m0\u001b[0m │\n",
       "├─────────────────────────────────┼────────────────────────┼───────────────┤\n",
       "│ flatten_54 (\u001b[38;5;33mFlatten\u001b[0m)            │ (\u001b[38;5;45mNone\u001b[0m, \u001b[38;5;34m4096\u001b[0m)           │             \u001b[38;5;34m0\u001b[0m │\n",
       "├─────────────────────────────────┼────────────────────────┼───────────────┤\n",
       "│ dense_68 (\u001b[38;5;33mDense\u001b[0m)                │ (\u001b[38;5;45mNone\u001b[0m, \u001b[38;5;34m5\u001b[0m)              │        \u001b[38;5;34m20,485\u001b[0m │\n",
       "└─────────────────────────────────┴────────────────────────┴───────────────┘\n"
      ]
     },
     "metadata": {},
     "output_type": "display_data"
    },
    {
     "data": {
      "text/html": [
       "<pre style=\"white-space:pre;overflow-x:auto;line-height:normal;font-family:Menlo,'DejaVu Sans Mono',consolas,'Courier New',monospace\"><span style=\"font-weight: bold\"> Total params: </span><span style=\"color: #00af00; text-decoration-color: #00af00\">44,597</span> (174.21 KB)\n",
       "</pre>\n"
      ],
      "text/plain": [
       "\u001b[1m Total params: \u001b[0m\u001b[38;5;34m44,597\u001b[0m (174.21 KB)\n"
      ]
     },
     "metadata": {},
     "output_type": "display_data"
    },
    {
     "data": {
      "text/html": [
       "<pre style=\"white-space:pre;overflow-x:auto;line-height:normal;font-family:Menlo,'DejaVu Sans Mono',consolas,'Courier New',monospace\"><span style=\"font-weight: bold\"> Trainable params: </span><span style=\"color: #00af00; text-decoration-color: #00af00\">44,341</span> (173.21 KB)\n",
       "</pre>\n"
      ],
      "text/plain": [
       "\u001b[1m Trainable params: \u001b[0m\u001b[38;5;34m44,341\u001b[0m (173.21 KB)\n"
      ]
     },
     "metadata": {},
     "output_type": "display_data"
    },
    {
     "data": {
      "text/html": [
       "<pre style=\"white-space:pre;overflow-x:auto;line-height:normal;font-family:Menlo,'DejaVu Sans Mono',consolas,'Courier New',monospace\"><span style=\"font-weight: bold\"> Non-trainable params: </span><span style=\"color: #00af00; text-decoration-color: #00af00\">256</span> (1.00 KB)\n",
       "</pre>\n"
      ],
      "text/plain": [
       "\u001b[1m Non-trainable params: \u001b[0m\u001b[38;5;34m256\u001b[0m (1.00 KB)\n"
      ]
     },
     "metadata": {},
     "output_type": "display_data"
    }
   ],
   "source": [
    "cnn = Sequential(name = 'cnn')\n",
    "cnn.add(Input(shape = (128,128,3)))\n",
    "cnn.add(Rescaling(1./255))\n",
    "cnn.add(Conv2D(16,(3,3),padding = 'same',activation = 'relu',kernel_initializer= HeNormal(),kernel_regularizer=L2(0.001)))\n",
    "cnn.add(BatchNormalization())\n",
    "cnn.add(Conv2D(16,(3,3),padding = 'same',activation = 'relu',kernel_initializer= HeNormal(),kernel_regularizer=L2(0.001)))\n",
    "cnn.add(BatchNormalization())\n",
    "cnn.add(AveragePooling2D((2,2)))\n",
    "cnn.add(Dropout(0.5))\n",
    "cnn.add(Conv2D(32,(3,3),padding = 'same',activation = 'relu',kernel_initializer = HeNormal(),kernel_regularizer=L2(0.001)))\n",
    "cnn.add(BatchNormalization())\n",
    "cnn.add(Dropout(0.5))\n",
    "cnn.add(Conv2D(32,(3,3),padding = 'same',activation = 'relu',kernel_initializer = HeNormal(),kernel_regularizer=L2(0.001)))\n",
    "cnn.add(BatchNormalization())\n",
    "cnn.add(AveragePooling2D((2,2)))\n",
    "cnn.add(Dropout(0.5))\n",
    "cnn.add(Conv2D(16,(3,3),padding = 'same',activation = 'relu',kernel_initializer = HeNormal(),kernel_regularizer=L2(0.001)))\n",
    "cnn.add(BatchNormalization())\n",
    "cnn.add(Conv2D(16,(3,3),padding = 'same',activation = 'relu',kernel_initializer = HeNormal(),kernel_regularizer=L2(0.001)))\n",
    "cnn.add(BatchNormalization())\n",
    "cnn.add(AveragePooling2D((2,2)))\n",
    "cnn.add(Dropout(0.5))\n",
    "cnn.add(Flatten())\n",
    "cnn.add(Dense(5,activation = 'softmax',kernel_initializer = GlorotNormal(),kernel_regularizer=L2(0.001)))\n",
    "cnn.summary()\n",
    "cnn.compile(loss = 'sparse_categorical_crossentropy',optimizer = Adam(learning_rate = 0.0005),metrics = ['accuracy'])"
   ]
  },
  {
   "cell_type": "code",
   "execution_count": 355,
   "metadata": {},
   "outputs": [
    {
     "name": "stdout",
     "output_type": "stream",
     "text": [
      "Epoch 1/10\n",
      "\u001b[1m1342/1342\u001b[0m \u001b[32m━━━━━━━━━━━━━━━━━━━━\u001b[0m\u001b[37m\u001b[0m \u001b[1m389s\u001b[0m 290ms/step - accuracy: 0.5996 - loss: 1.0798 - val_accuracy: 0.5840 - val_loss: 1.1235\n",
      "Epoch 2/10\n",
      "\u001b[1m1342/1342\u001b[0m \u001b[32m━━━━━━━━━━━━━━━━━━━━\u001b[0m\u001b[37m\u001b[0m \u001b[1m372s\u001b[0m 277ms/step - accuracy: 0.6027 - loss: 1.0794 - val_accuracy: 0.5383 - val_loss: 1.2532\n",
      "Epoch 3/10\n",
      "\u001b[1m1342/1342\u001b[0m \u001b[32m━━━━━━━━━━━━━━━━━━━━\u001b[0m\u001b[37m\u001b[0m \u001b[1m373s\u001b[0m 278ms/step - accuracy: 0.5977 - loss: 1.0766 - val_accuracy: 0.5160 - val_loss: 1.3517\n",
      "Epoch 4/10\n",
      "\u001b[1m1342/1342\u001b[0m \u001b[32m━━━━━━━━━━━━━━━━━━━━\u001b[0m\u001b[37m\u001b[0m \u001b[1m373s\u001b[0m 278ms/step - accuracy: 0.6002 - loss: 1.0698 - val_accuracy: 0.5352 - val_loss: 1.3195\n",
      "Epoch 5/10\n",
      "\u001b[1m1342/1342\u001b[0m \u001b[32m━━━━━━━━━━━━━━━━━━━━\u001b[0m\u001b[37m\u001b[0m \u001b[1m392s\u001b[0m 292ms/step - accuracy: 0.5960 - loss: 1.0778 - val_accuracy: 0.5575 - val_loss: 1.2162\n",
      "Epoch 6/10\n",
      "\u001b[1m1342/1342\u001b[0m \u001b[32m━━━━━━━━━━━━━━━━━━━━\u001b[0m\u001b[37m\u001b[0m \u001b[1m388s\u001b[0m 289ms/step - accuracy: 0.6006 - loss: 1.0728 - val_accuracy: 0.5615 - val_loss: 1.1803\n",
      "Epoch 7/10\n",
      "\u001b[1m1342/1342\u001b[0m \u001b[32m━━━━━━━━━━━━━━━━━━━━\u001b[0m\u001b[37m\u001b[0m \u001b[1m387s\u001b[0m 288ms/step - accuracy: 0.5977 - loss: 1.0724 - val_accuracy: 0.5506 - val_loss: 1.2281\n",
      "Epoch 8/10\n",
      "\u001b[1m1342/1342\u001b[0m \u001b[32m━━━━━━━━━━━━━━━━━━━━\u001b[0m\u001b[37m\u001b[0m \u001b[1m385s\u001b[0m 287ms/step - accuracy: 0.6003 - loss: 1.0723 - val_accuracy: 0.5414 - val_loss: 1.2545\n",
      "Epoch 9/10\n",
      "\u001b[1m1342/1342\u001b[0m \u001b[32m━━━━━━━━━━━━━━━━━━━━\u001b[0m\u001b[37m\u001b[0m \u001b[1m375s\u001b[0m 279ms/step - accuracy: 0.6040 - loss: 1.0688 - val_accuracy: 0.5610 - val_loss: 1.2064\n",
      "Epoch 10/10\n",
      "\u001b[1m1342/1342\u001b[0m \u001b[32m━━━━━━━━━━━━━━━━━━━━\u001b[0m\u001b[37m\u001b[0m \u001b[1m365s\u001b[0m 272ms/step - accuracy: 0.5985 - loss: 1.0685 - val_accuracy: 0.5749 - val_loss: 1.1544\n"
     ]
    }
   ],
   "source": [
    "logs = cnn.fit(train,validation_data=(val),epochs = 10,batch_size=64)"
   ]
  },
  {
   "cell_type": "code",
   "execution_count": 324,
   "metadata": {},
   "outputs": [
    {
     "name": "stdout",
     "output_type": "stream",
     "text": [
      "\u001b[1m192/192\u001b[0m \u001b[32m━━━━━━━━━━━━━━━━━━━━\u001b[0m\u001b[37m\u001b[0m \u001b[1m10s\u001b[0m 49ms/step - accuracy: 0.5688 - loss: 1.1342 - sparse_categorical_accuracy: 0.5688\n"
     ]
    },
    {
     "data": {
      "text/plain": [
       "[1.1248997449874878, 0.5727553963661194, 0.5727553963661194]"
      ]
     },
     "execution_count": 324,
     "metadata": {},
     "output_type": "execute_result"
    }
   ],
   "source": [
    "cnn.evaluate(test)"
   ]
  },
  {
   "cell_type": "code",
   "execution_count": 253,
   "metadata": {},
   "outputs": [],
   "source": [
    "vgg = VGG16(weights = 'imagenet',include_top=False,input_shape=(128,128,3),pooling='max')\n",
    "em = vgg.output\n",
    "em = Dense(5,activation = 'softmax',kernel_initializer = LecunNormal(),kernel_regularizer=L2(0.001))(em)\n",
    "vgg = Model(inputs = vgg.input,outputs = em)\n",
    "vgg.compile(loss = 'sparse_categorical_crossentropy',optimizer = Adam(learning_rate = 0.0005),metrics = ['accuracy','sparse_categorical_accuracy'])"
   ]
  },
  {
   "cell_type": "code",
   "execution_count": 257,
   "metadata": {},
   "outputs": [
    {
     "name": "stdout",
     "output_type": "stream",
     "text": [
      "Epoch 1/2\n",
      "\u001b[1m1342/1342\u001b[0m \u001b[32m━━━━━━━━━━━━━━━━━━━━\u001b[0m\u001b[37m\u001b[0m \u001b[1m5416s\u001b[0m 4s/step - accuracy: 0.6001 - loss: 0.9975 - sparse_categorical_accuracy: 0.6001 - val_accuracy: 0.5722 - val_loss: 1.0610 - val_sparse_categorical_accuracy: 0.5722\n",
      "Epoch 2/2\n",
      "\u001b[1m1342/1342\u001b[0m \u001b[32m━━━━━━━━━━━━━━━━━━━━\u001b[0m\u001b[37m\u001b[0m \u001b[1m5401s\u001b[0m 4s/step - accuracy: 0.6195 - loss: 0.9527 - sparse_categorical_accuracy: 0.6195 - val_accuracy: 0.5855 - val_loss: 1.0204 - val_sparse_categorical_accuracy: 0.5855\n"
     ]
    }
   ],
   "source": [
    "logsvgg = vgg.fit(train,validation_data=(val),epochs = 2,batch_size=32)"
   ]
  },
  {
   "cell_type": "code",
   "execution_count": 258,
   "metadata": {},
   "outputs": [
    {
     "name": "stdout",
     "output_type": "stream",
     "text": [
      "\u001b[1m192/192\u001b[0m \u001b[32m━━━━━━━━━━━━━━━━━━━━\u001b[0m\u001b[37m\u001b[0m \u001b[1m213s\u001b[0m 1s/step - accuracy: 0.5734 - loss: 1.0328 - sparse_categorical_accuracy: 0.5734\n"
     ]
    },
    {
     "data": {
      "text/plain": [
       "[1.045122504234314, 0.5719406604766846, 0.5719406604766846]"
      ]
     },
     "execution_count": 258,
     "metadata": {},
     "output_type": "execute_result"
    }
   ],
   "source": [
    "vgg.evaluate(test)"
   ]
  },
  {
   "cell_type": "code",
   "execution_count": 259,
   "metadata": {},
   "outputs": [
    {
     "name": "stdout",
     "output_type": "stream",
     "text": [
      "Downloading data from https://storage.googleapis.com/tensorflow/keras-applications/resnet/resnet50v2_weights_tf_dim_ordering_tf_kernels_notop.h5\n",
      "\u001b[1m94668760/94668760\u001b[0m \u001b[32m━━━━━━━━━━━━━━━━━━━━\u001b[0m\u001b[37m\u001b[0m \u001b[1m13s\u001b[0m 0us/step\n"
     ]
    }
   ],
   "source": [
    "res = ResNet50V2(weights = 'imagenet',include_top=False,input_shape=(128,128,3),pooling='max')\n",
    "em = res.output\n",
    "em = Dense(5,activation = 'softmax',kernel_initializer = LecunNormal(),kernel_regularizer=L2(0.001))(em)\n",
    "res = Model(inputs = res.input,outputs = em)\n",
    "res.compile(loss = 'sparse_categorical_crossentropy',optimizer = Adam(learning_rate = 0.0005),metrics = ['accuracy','sparse_categorical_accuracy'])"
   ]
  },
  {
   "cell_type": "code",
   "execution_count": 261,
   "metadata": {},
   "outputs": [
    {
     "name": "stdout",
     "output_type": "stream",
     "text": [
      "Epoch 1/4\n",
      "\u001b[1m1342/1342\u001b[0m \u001b[32m━━━━━━━━━━━━━━━━━━━━\u001b[0m\u001b[37m\u001b[0m \u001b[1m2423s\u001b[0m 2s/step - accuracy: 0.5408 - loss: 1.3019 - sparse_categorical_accuracy: 0.5408 - val_accuracy: 0.5914 - val_loss: 1.0339 - val_sparse_categorical_accuracy: 0.5914\n",
      "Epoch 2/4\n",
      "\u001b[1m1342/1342\u001b[0m \u001b[32m━━━━━━━━━━━━━━━━━━━━\u001b[0m\u001b[37m\u001b[0m \u001b[1m1830s\u001b[0m 1s/step - accuracy: 0.6404 - loss: 0.9157 - sparse_categorical_accuracy: 0.6404 - val_accuracy: 0.5097 - val_loss: 1.2300 - val_sparse_categorical_accuracy: 0.5097\n",
      "Epoch 3/4\n",
      "\u001b[1m1342/1342\u001b[0m \u001b[32m━━━━━━━━━━━━━━━━━━━━\u001b[0m\u001b[37m\u001b[0m \u001b[1m1886s\u001b[0m 1s/step - accuracy: 0.6684 - loss: 0.8444 - sparse_categorical_accuracy: 0.6684 - val_accuracy: 0.5957 - val_loss: 1.0661 - val_sparse_categorical_accuracy: 0.5957\n",
      "Epoch 4/4\n",
      "\u001b[1m1342/1342\u001b[0m \u001b[32m━━━━━━━━━━━━━━━━━━━━\u001b[0m\u001b[37m\u001b[0m \u001b[1m1920s\u001b[0m 1s/step - accuracy: 0.6895 - loss: 0.7925 - sparse_categorical_accuracy: 0.6895 - val_accuracy: 0.5434 - val_loss: 1.3241 - val_sparse_categorical_accuracy: 0.5434\n"
     ]
    }
   ],
   "source": [
    "logsres = res.fit(train,validation_data=(val),epochs = 3,batch_size=32)"
   ]
  },
  {
   "cell_type": "code",
   "execution_count": 262,
   "metadata": {},
   "outputs": [
    {
     "name": "stdout",
     "output_type": "stream",
     "text": [
      "\u001b[1m192/192\u001b[0m \u001b[32m━━━━━━━━━━━━━━━━━━━━\u001b[0m\u001b[37m\u001b[0m \u001b[1m61s\u001b[0m 318ms/step - accuracy: 0.5360 - loss: 1.3559 - sparse_categorical_accuracy: 0.5360\n"
     ]
    },
    {
     "data": {
      "text/plain": [
       "[1.3527230024337769, 0.5391885042190552, 0.5391885042190552]"
      ]
     },
     "execution_count": 262,
     "metadata": {},
     "output_type": "execute_result"
    }
   ],
   "source": [
    "res.evaluate(test)"
   ]
  },
  {
   "cell_type": "code",
   "execution_count": 265,
   "metadata": {},
   "outputs": [],
   "source": [
    "inc = InceptionV3(weights = 'imagenet',include_top=False,input_shape=(128,128,3),pooling='max')\n",
    "em = inc.output\n",
    "em = Dense(5,activation = 'softmax',kernel_initializer = LecunNormal(),kernel_regularizer=L2(0.001))(em)\n",
    "inc = Model(inputs = inc.input,outputs = em)\n",
    "inc.compile(loss = 'sparse_categorical_crossentropy',optimizer = Adam(learning_rate = 0.0005),metrics = ['accuracy','sparse_categorical_accuracy'])"
   ]
  },
  {
   "cell_type": "code",
   "execution_count": 268,
   "metadata": {},
   "outputs": [
    {
     "name": "stdout",
     "output_type": "stream",
     "text": [
      "\u001b[1m1342/1342\u001b[0m \u001b[32m━━━━━━━━━━━━━━━━━━━━\u001b[0m\u001b[37m\u001b[0m \u001b[1m1101s\u001b[0m 820ms/step - accuracy: 0.6452 - loss: 0.9129 - sparse_categorical_accuracy: 0.6452 - val_accuracy: 0.5978 - val_loss: 1.1236 - val_sparse_categorical_accuracy: 0.5978\n"
     ]
    }
   ],
   "source": [
    "logsinc = inc.fit(train,validation_data=(val),epochs = 1,batch_size=32)"
   ]
  },
  {
   "cell_type": "code",
   "execution_count": 269,
   "metadata": {},
   "outputs": [
    {
     "name": "stdout",
     "output_type": "stream",
     "text": [
      "\u001b[1m192/192\u001b[0m \u001b[32m━━━━━━━━━━━━━━━━━━━━\u001b[0m\u001b[37m\u001b[0m \u001b[1m37s\u001b[0m 192ms/step - accuracy: 0.6064 - loss: 1.1087 - sparse_categorical_accuracy: 0.6064\n"
     ]
    },
    {
     "data": {
      "text/plain": [
       "[1.1131665706634521, 0.6011080145835876, 0.6011080145835876]"
      ]
     },
     "execution_count": 269,
     "metadata": {},
     "output_type": "execute_result"
    }
   ],
   "source": [
    "inc.evaluate(test)"
   ]
  },
  {
   "cell_type": "code",
   "execution_count": 276,
   "metadata": {},
   "outputs": [],
   "source": [
    "eff = EfficientNetV2B0(weights = 'imagenet',include_top=False,input_shape=(128,128,3),pooling='max')\n",
    "em = eff.output\n",
    "em = Dense(5,activation = 'softmax',kernel_initializer = LecunNormal(),kernel_regularizer=L2(0.001))(em)\n",
    "eff = Model(inputs = eff.input,outputs = em)\n",
    "eff.compile(loss = 'sparse_categorical_crossentropy',optimizer = Adam(learning_rate = 0.0005),metrics = ['accuracy','sparse_categorical_accuracy'])"
   ]
  },
  {
   "cell_type": "code",
   "execution_count": 277,
   "metadata": {},
   "outputs": [
    {
     "name": "stdout",
     "output_type": "stream",
     "text": [
      "\u001b[1m1342/1342\u001b[0m \u001b[32m━━━━━━━━━━━━━━━━━━━━\u001b[0m\u001b[37m\u001b[0m \u001b[1m774s\u001b[0m 559ms/step - accuracy: 0.5859 - loss: 1.1065 - sparse_categorical_accuracy: 0.5859 - val_accuracy: 0.6953 - val_loss: 0.7851 - val_sparse_categorical_accuracy: 0.6953\n"
     ]
    }
   ],
   "source": [
    "logseff = eff.fit(train,validation_data=(val),epochs = 1,batch_size=32)"
   ]
  },
  {
   "cell_type": "code",
   "execution_count": 278,
   "metadata": {},
   "outputs": [
    {
     "name": "stdout",
     "output_type": "stream",
     "text": [
      "\u001b[1m192/192\u001b[0m \u001b[32m━━━━━━━━━━━━━━━━━━━━\u001b[0m\u001b[37m\u001b[0m \u001b[1m26s\u001b[0m 133ms/step - accuracy: 0.6882 - loss: 0.7841 - sparse_categorical_accuracy: 0.6882\n"
     ]
    },
    {
     "data": {
      "text/plain": [
       "[0.7816681265830994, 0.6954538226127625, 0.6954538226127625]"
      ]
     },
     "execution_count": 278,
     "metadata": {},
     "output_type": "execute_result"
    }
   ],
   "source": [
    "eff.evaluate(test)"
   ]
  },
  {
   "cell_type": "code",
   "execution_count": 280,
   "metadata": {},
   "outputs": [
    {
     "name": "stdout",
     "output_type": "stream",
     "text": [
      "Downloading data from https://storage.googleapis.com/tensorflow/keras-applications/efficientnet_v2/efficientnetv2-b1_notop.h5\n",
      "\u001b[1m28456008/28456008\u001b[0m \u001b[32m━━━━━━━━━━━━━━━━━━━━\u001b[0m\u001b[37m\u001b[0m \u001b[1m67s\u001b[0m 2us/step\n"
     ]
    }
   ],
   "source": [
    "eff1 = EfficientNetV2B1(weights = 'imagenet',include_top=False,input_shape=(128,128,3),pooling='max')\n",
    "em = eff1.output\n",
    "em = Dense(5,activation = 'softmax',kernel_initializer = LecunNormal(),kernel_regularizer=L2(0.001))(em)\n",
    "eff1 = Model(inputs = eff1.input,outputs = em)\n",
    "eff1.compile(loss = 'sparse_categorical_crossentropy',optimizer = Adam(learning_rate = 0.0005),metrics = ['accuracy','sparse_categorical_accuracy'])"
   ]
  },
  {
   "cell_type": "code",
   "execution_count": 281,
   "metadata": {},
   "outputs": [
    {
     "name": "stdout",
     "output_type": "stream",
     "text": [
      "\u001b[1m1342/1342\u001b[0m \u001b[32m━━━━━━━━━━━━━━━━━━━━\u001b[0m\u001b[37m\u001b[0m \u001b[1m1027s\u001b[0m 745ms/step - accuracy: 0.5816 - loss: 1.1336 - sparse_categorical_accuracy: 0.5816 - val_accuracy: 0.7033 - val_loss: 0.7704 - val_sparse_categorical_accuracy: 0.7033\n"
     ]
    }
   ],
   "source": [
    "logseff1 = eff1.fit(train,validation_data=(val),epochs = 1,batch_size=32)"
   ]
  },
  {
   "cell_type": "code",
   "execution_count": 282,
   "metadata": {},
   "outputs": [
    {
     "name": "stdout",
     "output_type": "stream",
     "text": [
      "\u001b[1m192/192\u001b[0m \u001b[32m━━━━━━━━━━━━━━━━━━━━\u001b[0m\u001b[37m\u001b[0m \u001b[1m32s\u001b[0m 167ms/step - accuracy: 0.6905 - loss: 0.7829 - sparse_categorical_accuracy: 0.6905\n"
     ]
    },
    {
     "data": {
      "text/plain": [
       "[0.7789926528930664, 0.693498432636261, 0.693498432636261]"
      ]
     },
     "execution_count": 282,
     "metadata": {},
     "output_type": "execute_result"
    }
   ],
   "source": [
    "eff1.evaluate(test)"
   ]
  },
  {
   "cell_type": "code",
   "execution_count": 331,
   "metadata": {},
   "outputs": [
    {
     "data": {
      "text/plain": [
       "True"
      ]
     },
     "execution_count": 331,
     "metadata": {},
     "output_type": "execute_result"
    }
   ],
   "source": []
  },
  {
   "cell_type": "code",
   "execution_count": null,
   "metadata": {},
   "outputs": [],
   "source": []
  }
 ],
 "metadata": {
  "kernelspec": {
   "display_name": "base",
   "language": "python",
   "name": "python3"
  },
  "language_info": {
   "codemirror_mode": {
    "name": "ipython",
    "version": 3
   },
   "file_extension": ".py",
   "mimetype": "text/x-python",
   "name": "python",
   "nbconvert_exporter": "python",
   "pygments_lexer": "ipython3",
   "version": "3.11.8"
  }
 },
 "nbformat": 4,
 "nbformat_minor": 2
}
